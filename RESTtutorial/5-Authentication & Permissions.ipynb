{
 "cells": [
  {
   "cell_type": "markdown",
   "metadata": {},
   "source": [
    "# REST API\n",
    "<img src='pics/0.png' />\n",
    "\n",
    "\n",
    "# Authentication & Permissions\n",
    "<img src='pics/Untitled-4.jpg' />\n",
    "\n",
    "Authentication & Permissions\n",
    "Currently our API doesn't have any restrictions on who can edit or delete code authors.\n",
    "We'd like to have some more advanced behavior in order to make sure that:\n",
    "\n",
    "1. Authors are always associated with a creator.\n",
    "2. Only authenticated users may create authors.\n",
    "3. Only the creator of a author may update or delete it.\n",
    "4. Unauthenticated requests should have full read-only access."
   ]
  },
  {
   "cell_type": "markdown",
   "metadata": {},
   "source": [
    "# models.py"
   ]
  },
  {
   "cell_type": "code",
   "execution_count": null,
   "metadata": {},
   "outputs": [],
   "source": [
    "from django.db import models\n",
    "\n",
    "\n",
    "class Author(models.Model):\n",
    "    \"\"\"\n",
    "    Model representing an author.\n",
    "    \"\"\"\n",
    "    owner = models.ForeignKey('auth.User', related_name='authors', on_delete=models.CASCADE)\n",
    "    first_name = models.CharField(max_length=100)\n",
    "    last_name = models.CharField(max_length=100)\n",
    "    date_of_birth = models.DateField(null=True, blank=True)\n",
    "    date_of_death = models.DateField('Died', null=True, blank=True)\n",
    "\n",
    "    def __str__(self):\n",
    "        \"\"\"\n",
    "        String for representing the Model object.\n",
    "        \"\"\"\n",
    "        return '%s, %s' % (self.last_name, self.first_name)\n"
   ]
  },
  {
   "cell_type": "markdown",
   "metadata": {},
   "source": [
    "# serializers.py"
   ]
  },
  {
   "cell_type": "code",
   "execution_count": null,
   "metadata": {},
   "outputs": [],
   "source": [
    "class UserSerializer(serializers.ModelSerializer):\n",
    "    authors = serializers.PrimaryKeyRelatedField(many=True, queryset=models.Author.objects.all())\n",
    "\n",
    "    class Meta:\n",
    "        model = User\n",
    "        fields = ('id', 'username', 'authors')"
   ]
  },
  {
   "cell_type": "markdown",
   "metadata": {},
   "source": [
    "# urls.py"
   ]
  },
  {
   "cell_type": "code",
   "execution_count": null,
   "metadata": {},
   "outputs": [],
   "source": [
    "url(r'^users/$', views.UserList.as_view()),\n",
    "url(r'^users/(?P<pk>[0-9]+)/$', views.UserDetail.as_view()),"
   ]
  },
  {
   "cell_type": "markdown",
   "metadata": {},
   "source": [
    "# views.py"
   ]
  },
  {
   "cell_type": "code",
   "execution_count": null,
   "metadata": {},
   "outputs": [],
   "source": [
    "class AuthorList(generics.ListCreateAPIView):\n",
    "    queryset = models.Author.objects.all()\n",
    "    serializer_class = serializers.AuthorSerializer\n",
    "\n",
    "    def perform_create(self, serializer):\n",
    "        serializer.save(owner=self.request.user)\n",
    "        \n",
    "\n",
    "class AuthorDetail(generics.RetrieveUpdateDestroyAPIView):\n",
    "    queryset = models.Author.objects.all()\n",
    "    serializer_class = serializers.AuthorSerializer\n",
    "\n",
    "\n",
    "class UserList(generics.ListAPIView):\n",
    "    queryset = User.objects.all()\n",
    "    serializer_class = serializers.UserSerializer\n",
    "\n",
    "\n",
    "class UserDetail(generics.RetrieveAPIView):\n",
    "    queryset = User.objects.all()\n",
    "    serializer_class = serializers.UserSerializer"
   ]
  },
  {
   "cell_type": "markdown",
   "metadata": {},
   "source": [
    "### python manage.py makemigrations"
   ]
  },
  {
   "cell_type": "markdown",
   "metadata": {},
   "source": [
    "You are trying to add a non-nullable field 'owner' to author without a default; we can't do that (the database needs something to populate existing rows).\n",
    "\n",
    "Please select a fix:\n",
    "\n",
    "1. Provide a one-off default now (will be set on all existing rows with a null value for this column)\n",
    "\n",
    "2. Quit, and let me add a default in models.py\n"
   ]
  },
  {
   "cell_type": "code",
   "execution_count": null,
   "metadata": {},
   "outputs": [],
   "source": [
    "rm -f db.sqlite3\n",
    "rm -r snippets/migrations\n",
    "python manage.py makemigrations snippets\n",
    "python manage.py migrate\n",
    "python manage.py createsuperuser\n",
    "python manage.py runserver"
   ]
  },
  {
   "cell_type": "markdown",
   "metadata": {},
   "source": [
    "<img src='pics/Screenshot from 2018-03-10 11-14-16.png'>"
   ]
  },
  {
   "cell_type": "markdown",
   "metadata": {},
   "source": [
    "## Associating authors with Users\n",
    "Right now, if we created a author, there'd be no way of associating the user that created the author, with the author instance. The user isn't sent as part of the serialized representation, but is instead a property of the incoming request.\n",
    "\n",
    "The way we deal with that is by overriding a .perform_create() method on our author views, that allows us to modify how the instance save is managed, and handle any information that is implicit in the incoming request or requested URL.\n",
    "\n",
    "The create() method of our serializer will now be passed an additional 'owner' field, along with the validated data from the request.\n",
    "\n",
    "On the AuthorList view class, add the following method:"
   ]
  },
  {
   "cell_type": "code",
   "execution_count": null,
   "metadata": {},
   "outputs": [],
   "source": [
    "def perform_create(self, serializer):\n",
    "    serializer.save(owner=self.request.user)"
   ]
  },
  {
   "cell_type": "markdown",
   "metadata": {},
   "source": [
    "# add owner To AuthorSerializer"
   ]
  },
  {
   "cell_type": "code",
   "execution_count": null,
   "metadata": {},
   "outputs": [],
   "source": [
    "class AuthorSerializer(serializers.ModelSerializer):\n",
    "    # owner = serializers.ReadOnlyField(source='owner.username')\n",
    "\n",
    "    class Meta:\n",
    "        model = models.Author\n",
    "        fields = ['id', 'first_name', 'last_name',\n",
    "                  'date_of_birth', 'date_of_death',\n",
    "                  'owner']\n"
   ]
  },
  {
   "cell_type": "markdown",
   "metadata": {},
   "source": [
    "<img src='pics/Screenshot from 2018-03-10 13-07-45.png' />"
   ]
  },
  {
   "cell_type": "markdown",
   "metadata": {},
   "source": [
    "# Make owner ReadOnly\n",
    "\n",
    "This field is doing something quite interesting. The source argument controls which attribute is used to populate a field, and can point at any attribute on the serialized instance. It can also take the dotted notation shown above, in which case it will traverse the given attributes, in a similar way as it is used with Django's template language.\n",
    "\n",
    "The field we've added is the untyped ReadOnlyField class, in contrast to the other typed fields, such as CharField, BooleanField etc... The untyped ReadOnlyField is always read-only, and will be used for serialized representations, but will not be used for updating model instances when they are deserialized. We could have also used CharField(read_only=True) here."
   ]
  },
  {
   "cell_type": "code",
   "execution_count": null,
   "metadata": {},
   "outputs": [],
   "source": [
    "owner = serializers.ReadOnlyField(source='owner.username')"
   ]
  },
  {
   "cell_type": "markdown",
   "metadata": {},
   "source": [
    "<img src='pics/Screenshot from 2018-03-10 13-09-34.png' />"
   ]
  },
  {
   "cell_type": "markdown",
   "metadata": {},
   "source": [
    "## Adding required permissions to views\n",
    "\n",
    "we want to make sure that only authenticated users are able to create, update and delete code snippets.\n",
    "\n",
    "REST framework includes a number of permission classes that we can use to restrict who can access a given view. In this case the one we're looking for is IsAuthenticatedOrReadOnly, which will ensure that authenticated requests get read-write access, and unauthenticated requests get read-only access.\n",
    "\n"
   ]
  },
  {
   "cell_type": "code",
   "execution_count": null,
   "metadata": {},
   "outputs": [],
   "source": [
    "from rest_framework import permissions\n",
    "\n",
    "class AuthorList(generics.ListCreateAPIView):\n",
    "    queryset = models.Author.objects.all()\n",
    "    serializer_class = serializers.AuthorSerializer\n",
    "    permission_classes = (permissions.IsAuthenticatedOrReadOnly,)\n",
    "\n",
    "    def perform_create(self, serializer):\n",
    "        serializer.save(owner=self.request.user)\n",
    "\n",
    "\n",
    "class AuthorDetail(generics.RetrieveUpdateDestroyAPIView):\n",
    "    queryset = models.Author.objects.all()\n",
    "    serializer_class = serializers.AuthorSerializer\n",
    "    permission_classes = (permissions.IsAuthenticatedOrReadOnly,)"
   ]
  },
  {
   "cell_type": "markdown",
   "metadata": {},
   "source": [
    "<img src='pics/Screenshot from 2018-03-10 13-15-05.png' />"
   ]
  },
  {
   "cell_type": "markdown",
   "metadata": {},
   "source": [
    "## Project level URL"
   ]
  },
  {
   "cell_type": "code",
   "execution_count": null,
   "metadata": {},
   "outputs": [],
   "source": [
    "urlpatterns = [\n",
    "    url(r'^admin/', admin.site.urls),\n",
    "    url(r'^myapp/', include('my_app.urls', namespace='my_app')),\n",
    "    url(r'^api-auth/', include('rest_framework.urls', namespace='rest_framework')),\n",
    "]\n"
   ]
  },
  {
   "cell_type": "markdown",
   "metadata": {},
   "source": [
    "<img src='pics/Screenshot from 2018-03-10 14-04-00.png' />"
   ]
  },
  {
   "cell_type": "markdown",
   "metadata": {},
   "source": [
    "## Object level permissions"
   ]
  },
  {
   "cell_type": "markdown",
   "metadata": {},
   "source": [
    "Really we'd like all authors to be visible to anyone,\n",
    "but also make sure that only the user that created an author is able to update or delete it.\n",
    "\n",
    "To do that we're going to need to create a custom permission.\n",
    "\n",
    "In the the app, create a new file, custom_permissions.py"
   ]
  },
  {
   "cell_type": "code",
   "execution_count": null,
   "metadata": {},
   "outputs": [],
   "source": [
    "from . import custom_permissions\n",
    "\n",
    "\n",
    "class AuthorDetail(generics.RetrieveUpdateDestroyAPIView):\n",
    "    queryset = models.Author.objects.all()\n",
    "    serializer_class = serializers.AuthorSerializer\n",
    "    permission_classes = (\n",
    "                    permissions.IsAuthenticatedOrReadOnly,\n",
    "                    custom_permissions.IsOwnerOrReadOnly\n",
    "    )\n"
   ]
  },
  {
   "cell_type": "markdown",
   "metadata": {},
   "source": [
    "## Create User\n",
    "\n",
    "<img src='pics/Screenshot from 2018-03-10 14-27-10.png' />"
   ]
  },
  {
   "cell_type": "markdown",
   "metadata": {},
   "source": [
    "## Add Author\n",
    "\n",
    "<img src='pics/Screenshot from 2018-03-10 14-29-02.png' />"
   ]
  },
  {
   "cell_type": "markdown",
   "metadata": {},
   "source": [
    "## check new author\n",
    "\n",
    "<img src='pics/Screenshot from 2018-03-10 14-30-03.png' />"
   ]
  },
  {
   "cell_type": "markdown",
   "metadata": {},
   "source": [
    "## loging with new user\n",
    "\n",
    "<img src='pics/Screenshot from 2018-03-10 14-31-27.png' />"
   ]
  },
  {
   "cell_type": "markdown",
   "metadata": {},
   "source": [
    "### Try to delete\n",
    "\n",
    "<img src='pics/Screenshot from 2018-03-10 14-33-01.png' />"
   ]
  },
  {
   "cell_type": "markdown",
   "metadata": {},
   "source": [
    "## logging out\n",
    "\n",
    "<img src='pics/Screenshot from 2018-03-10 14-36-34.png' />"
   ]
  }
 ],
 "metadata": {
  "kernelspec": {
   "display_name": "Python 2",
   "language": "python",
   "name": "python2"
  },
  "language_info": {
   "codemirror_mode": {
    "name": "ipython",
    "version": 2
   },
   "file_extension": ".py",
   "mimetype": "text/x-python",
   "name": "python",
   "nbconvert_exporter": "python",
   "pygments_lexer": "ipython2",
   "version": "2.7.12"
  }
 },
 "nbformat": 4,
 "nbformat_minor": 2
}
