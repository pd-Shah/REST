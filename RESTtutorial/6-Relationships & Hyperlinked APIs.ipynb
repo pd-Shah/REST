{
 "cells": [
  {
   "cell_type": "markdown",
   "metadata": {},
   "source": [
    "# REST API\n",
    "<img src='pics/0.png' />\n",
    "\n",
    "\n",
    "#  Relationships & Hyperlinked APIs\n",
    "\n",
    "Dealing with relationships between entities is one of the more challenging aspects of Web API design. There are a number of different ways that we might choose to represent a relationship:\n",
    "\n",
    "1. Using primary keys.\n",
    "\n",
    "2. Using hyperlinking between entities.\n",
    "\n",
    "3. Using a unique identifying slug field on the related entity.\n",
    "\n",
    "4. Using the default string representation of the related entity.\n",
    "\n",
    "5. Nesting the related entity inside the parent representation.\n",
    "\n",
    "Some other custom representation.\n",
    "\n",
    "REST framework supports all of these styles, and can apply them across forward or reverse relationships, or apply them across custom managers such as generic foreign keys.\n",
    "\n",
    "In this case we'd like to use a hyperlinked style between entities. In order to do so, we'll modify our serializers to extend HyperlinkedModelSerializer instead of the existing ModelSerializer.\n",
    "\n",
    "## The HyperlinkedModelSerializer has the following differences from ModelSerializer:\n",
    "\n",
    "1. It does not include the id field by default.\n",
    "2. It includes a url field, using HyperlinkedIdentityField.\n",
    "3. Relationships use HyperlinkedRelatedField, instead of PrimaryKeyRelatedField.\n"
   ]
  },
  {
   "cell_type": "code",
   "execution_count": null,
   "metadata": {},
   "outputs": [],
   "source": []
  }
 ],
 "metadata": {
  "kernelspec": {
   "display_name": "Python 2",
   "language": "python",
   "name": "python2"
  },
  "language_info": {
   "codemirror_mode": {
    "name": "ipython",
    "version": 2
   },
   "file_extension": ".py",
   "mimetype": "text/x-python",
   "name": "python",
   "nbconvert_exporter": "python",
   "pygments_lexer": "ipython2",
   "version": "2.7.12"
  }
 },
 "nbformat": 4,
 "nbformat_minor": 2
}
