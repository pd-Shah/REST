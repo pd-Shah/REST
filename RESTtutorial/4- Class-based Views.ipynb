{
 "cells": [
  {
   "cell_type": "markdown",
   "metadata": {},
   "source": [
    "# REST API\n",
    "<img src='pics/0.png' />\n",
    "\n",
    "\n",
    "#  Class-based Views\n",
    "<img src='pics/TH-DjangoClassBasedViews-S1V1-stills-4.jpg' />\n",
    "\n",
    "## Using mixins\n",
    "\n",
    "One of the big wins of using class-based views is that it allows us to easily compose reusable bits of behaviour.\n",
    "\n",
    "The create/retrieve/update/delete operations that we've been using so far are going to be pretty similar for any model-backed API views we create. Those bits of common behaviour are implemented in REST framework's mixin classes.\n",
    "\n",
    "We'll take a moment to examine exactly what's happening here. We're building our view using GenericAPIView, and adding in ListModelMixin and CreateModelMixin.\n",
    "\n",
    "The base class provides the core functionality, and the mixin classes provide the .list() and .create() actions. We're then explicitly binding the get and post methods to the appropriate actions. Simple enough stuff so far.\n",
    "\n",
    "Pretty similar. Again we're using the GenericAPIView class to provide the core functionality, and adding in mixins to provide the .retrieve(), .update() and .destroy() actions."
   ]
  },
  {
   "cell_type": "code",
   "execution_count": null,
   "metadata": {},
   "outputs": [],
   "source": [
    "class AuthorList(mixins.ListModelMixin,\n",
    "                 mixins.CreateModelMixin,\n",
    "                 generics.GenericAPIView):\n",
    "\n",
    "    queryset = models.Author.objects.all()\n",
    "    serializer_class = serializers.AuthorSerializer\n",
    "\n",
    "    def get(self, request, *args, **kwargs):\n",
    "        return self.list(request, *args, **kwargs)\n",
    "\n",
    "    def post(self, request, *args, **kwargs):\n",
    "        return self.create(request, *args, **kwargs)\n",
    "\n",
    "\n",
    "class AuthorDetail(mixins.RetrieveModelMixin,\n",
    "                   mixins.UpdateModelMixin,\n",
    "                   mixins.DestroyModelMixin,\n",
    "                   generics.GenericAPIView):\n",
    "                   \n",
    "    queryset = models.Author.objects.all()\n",
    "    serializer_class = serializers.AuthorSerializer\n",
    "\n",
    "    def get(self, request, *args, **kwargs):\n",
    "        return self.retrieve(request, *args, **kwargs)\n",
    "\n",
    "    def put(self, request, *args, **kwargs):\n",
    "        return self.update(request, *args, **kwargs)\n",
    "\n",
    "    def delete(self, request, *args, **kwargs):\n",
    "        return self.destroy(request, *args, **kwargs)"
   ]
  },
  {
   "cell_type": "markdown",
   "metadata": {},
   "source": [
    "## generic class-based views"
   ]
  },
  {
   "cell_type": "code",
   "execution_count": null,
   "metadata": {},
   "outputs": [],
   "source": [
    "class AuthorList(generics.ListAPIView):\n",
    "\n",
    "    serializer_class = serializers.AuthorSerializer\n",
    "\n",
    "    def get_queryset(self, ):\n",
    "        return models.Author.objects.all()\n",
    "\n",
    "\n",
    "class AuthorDetail(generics.RetrieveAPIView):\n",
    "\n",
    "    serializer_class = serializers.AuthorSerializer\n",
    "\n",
    "    def get_queryset(self, ):\n",
    "        return models.Author.objects.all()"
   ]
  },
  {
   "cell_type": "markdown",
   "metadata": {},
   "source": [
    "<img src='pics/Screenshot from 2018-03-07 16-33-01.png' />"
   ]
  },
  {
   "cell_type": "code",
   "execution_count": null,
   "metadata": {},
   "outputs": [],
   "source": [
    "class AuthorList(generics.ListCreateAPIView):\n",
    "    queryset = models.Author.objects.all()\n",
    "    serializer_class = serializers.AuthorSerializer\n",
    "\n",
    "\n",
    "class AuthorDetail(generics.RetrieveUpdateDestroyAPIView):\n",
    "    queryset = models.Author.objects.all()\n",
    "    serializer_class = serializers.AuthorSerializer"
   ]
  },
  {
   "cell_type": "markdown",
   "metadata": {},
   "source": [
    "<img src='pics/Screenshot from 2018-03-07 16-14-12.png' />"
   ]
  }
 ],
 "metadata": {
  "kernelspec": {
   "display_name": "Python 2",
   "language": "python",
   "name": "python2"
  },
  "language_info": {
   "codemirror_mode": {
    "name": "ipython",
    "version": 2
   },
   "file_extension": ".py",
   "mimetype": "text/x-python",
   "name": "python",
   "nbconvert_exporter": "python",
   "pygments_lexer": "ipython2",
   "version": "2.7.12"
  }
 },
 "nbformat": 4,
 "nbformat_minor": 2
}
