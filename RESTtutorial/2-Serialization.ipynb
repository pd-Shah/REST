{
 "cells": [
  {
   "cell_type": "markdown",
   "metadata": {},
   "source": [
    "# REST API\n",
    "<img src='pics/0.png' />"
   ]
  },
  {
   "cell_type": "markdown",
   "metadata": {},
   "source": [
    "# Serialization and Deserialization\n",
    "\n",
    "<img src='pics/chicken-egg.png' />"
   ]
  },
  {
   "cell_type": "markdown",
   "metadata": {},
   "source": [
    "## serialization"
   ]
  },
  {
   "cell_type": "code",
   "execution_count": null,
   "metadata": {},
   "outputs": [],
   "source": [
    "object = dict(int_list=[1, 2, 3],\n",
    " \n",
    "              text='string',\n",
    " \n",
    "              number=3.44,\n",
    " \n",
    "              boolean=True,\n",
    " \n",
    "              none=None)\n",
    "\n",
    "print(simple)"
   ]
  },
  {
   "cell_type": "code",
   "execution_count": null,
   "metadata": {},
   "outputs": [],
   "source": [
    "{'none': None, 'int_list': [1, 2, 3], 'text': 'string', 'boolean': True, 'number': 3.44}"
   ]
  },
  {
   "cell_type": "code",
   "execution_count": null,
   "metadata": {},
   "outputs": [],
   "source": [
    "print(json.dumps(object, indent=4))"
   ]
  },
  {
   "cell_type": "code",
   "execution_count": null,
   "metadata": {},
   "outputs": [],
   "source": [
    "{\n",
    " \n",
    "    \"text\": \"string\",\n",
    " \n",
    "    \"none\": null,\n",
    " \n",
    "    \"boolean\": true,\n",
    " \n",
    "    \"number\": 3.44,\n",
    " \n",
    "    \"int_list\": [\n",
    " \n",
    "        1,\n",
    " \n",
    "        2,\n",
    " \n",
    "        3\n",
    " \n",
    "    ]\n",
    " \n",
    "}"
   ]
  },
  {
   "cell_type": "markdown",
   "metadata": {},
   "source": [
    "### Deserialization"
   ]
  },
  {
   "cell_type": "code",
   "execution_count": null,
   "metadata": {},
   "outputs": [],
   "source": [
    "serialized=json.dumps(object, indent=4)\n",
    "print(serialized)"
   ]
  },
  {
   "cell_type": "code",
   "execution_count": null,
   "metadata": {},
   "outputs": [],
   "source": [
    "{\n",
    "    \"none\": null,\n",
    "    \"int_list\": [\n",
    "        1,\n",
    "        2,\n",
    "        3\n",
    "    ],\n",
    "    \"text\": \"string\",\n",
    "    \"boolean\": true,\n",
    "    \"number\": 3.44\n",
    "}"
   ]
  },
  {
   "cell_type": "code",
   "execution_count": null,
   "metadata": {},
   "outputs": [],
   "source": [
    "json.loads(serialized)"
   ]
  },
  {
   "cell_type": "code",
   "execution_count": null,
   "metadata": {},
   "outputs": [],
   "source": [
    "{'text': 'string', 'int_list': [1, 2, 3], 'none': None, 'boolean': True, 'number': 3.44}"
   ]
  },
  {
   "cell_type": "markdown",
   "metadata": {},
   "source": [
    "# Declaring Serializers"
   ]
  },
  {
   "cell_type": "markdown",
   "metadata": {},
   "source": [
    "Serializers allow complex data such as querysets and model instances to be converted to native Python datatypes that can then be easily rendered into JSON, XML or other content types. \n",
    "\n",
    " Serializers also provide deserialization, allowing parsed data to be converted back into complex types, after first validating the incoming data.\n",
    " \n",
    " The serializers in REST framework work very similarly to Django's Form and ModelForm classes. We provide a Serializer class which gives you a powerful, generic way to control the output of your responses, as well as a ModelSerializer class which provides a useful shortcut for creating serializers that deal with model instances and querysets.\n",
    "\n"
   ]
  },
  {
   "cell_type": "code",
   "execution_count": null,
   "metadata": {},
   "outputs": [],
   "source": [
    "from datetime import datetime\n",
    "\n",
    "class Comment(object):\n",
    "    def __init__(self, email, content, created=None):\n",
    "        self.email = email\n",
    "        self.content = content\n",
    "        self.created = created or datetime.now()\n",
    "\n",
    "comment = Comment(email='leila@example.com', content='foo bar')"
   ]
  },
  {
   "cell_type": "code",
   "execution_count": null,
   "metadata": {},
   "outputs": [],
   "source": [
    "from rest_framework import serializers\n",
    "\n",
    "class CommentSerializer(serializers.Serializer):\n",
    "    email = serializers.EmailField()\n",
    "    content = serializers.CharField(max_length=200)\n",
    "    created = serializers.DateTimeField()"
   ]
  },
  {
   "cell_type": "markdown",
   "metadata": {},
   "source": [
    "# Serializing objects\n",
    "\n",
    "At this point we've translated the model instance into Python native datatypes."
   ]
  },
  {
   "cell_type": "code",
   "execution_count": null,
   "metadata": {},
   "outputs": [],
   "source": [
    "serializer = CommentSerializer(comment)\n",
    "serializer.data\n",
    "\n",
    "{'email': 'leila@example.com', 'content': 'foo bar', 'created': '2016-01-27T15:17:10.375877'}"
   ]
  },
  {
   "cell_type": "markdown",
   "metadata": {},
   "source": [
    "To finalise the serialization process we render the data into json"
   ]
  },
  {
   "cell_type": "code",
   "execution_count": null,
   "metadata": {},
   "outputs": [],
   "source": [
    "from rest_framework.renderers import JSONRenderer\n",
    "\n",
    "json = JSONRenderer().render(serializer.data)\n",
    "json\n",
    "\n",
    "b'{\"email\":\"leila@example.com\",\"content\":\"foo bar\",\"created\":\"2016-01-27T15:17:10.375877\"}'"
   ]
  },
  {
   "cell_type": "markdown",
   "metadata": {},
   "source": [
    "# Deserializing objects\n",
    "\n",
    "First we parse a stream into Python native datatypes..."
   ]
  },
  {
   "cell_type": "code",
   "execution_count": null,
   "metadata": {},
   "outputs": [],
   "source": [
    "from django.utils.six import BytesIO\n",
    "from rest_framework.parsers import JSONParser\n",
    "\n",
    "stream = BytesIO(json)\n",
    "data = JSONParser().parse(stream)"
   ]
  },
  {
   "cell_type": "markdown",
   "metadata": {},
   "source": [
    "...then we restore those native datatypes into a dictionary of validated data."
   ]
  },
  {
   "cell_type": "code",
   "execution_count": null,
   "metadata": {},
   "outputs": [],
   "source": [
    "serializer = CommentSerializer(data=data)\n",
    "serializer.is_valid()\n",
    "\n",
    "True"
   ]
  },
  {
   "cell_type": "code",
   "execution_count": null,
   "metadata": {},
   "outputs": [],
   "source": [
    "serializer.validated_data\n",
    "\n",
    "{'content': 'foo bar', 'email': 'leila@example.com', 'created': datetime.datetime(2012, 08, 22, 16, 20, 09, 822243)}"
   ]
  },
  {
   "cell_type": "markdown",
   "metadata": {},
   "source": [
    "# complete object instances based on the validated data"
   ]
  },
  {
   "cell_type": "code",
   "execution_count": null,
   "metadata": {},
   "outputs": [],
   "source": [
    "class CommentSerializer(serializers.Serializer):\n",
    "    email = serializers.EmailField()\n",
    "    content = serializers.CharField(max_length=200)\n",
    "    created = serializers.DateTimeField()\n",
    "\n",
    "    def create(self, validated_data):\n",
    "        return Comment(**validated_data)\n",
    "\n",
    "    def update(self, instance, validated_data):\n",
    "        instance.email = validated_data.get('email', instance.email)\n",
    "        instance.content = validated_data.get('content', instance.content)\n",
    "        instance.created = validated_data.get('created', instance.created)\n",
    "        return instance"
   ]
  },
  {
   "cell_type": "markdown",
   "metadata": {},
   "source": [
    "# object instances correspond to Django models"
   ]
  },
  {
   "cell_type": "code",
   "execution_count": null,
   "metadata": {},
   "outputs": [],
   "source": [
    "def create(self, validated_data):\n",
    "    return Comment.objects.create(**validated_data)\n",
    "\n",
    "def update(self, instance, validated_data):\n",
    "    instance.email = validated_data.get('email', instance.email)\n",
    "    instance.content = validated_data.get('content', instance.content)\n",
    "    instance.created = validated_data.get('created', instance.created)\n",
    "    instance.save()\n",
    "    return instance"
   ]
  },
  {
   "cell_type": "markdown",
   "metadata": {},
   "source": [
    "# create a new instance, or update an existing instance"
   ]
  },
  {
   "cell_type": "code",
   "execution_count": null,
   "metadata": {},
   "outputs": [],
   "source": [
    "# .save() will create a new instance.\n",
    "serializer = CommentSerializer(data=data)\n",
    "serializer.save()"
   ]
  },
  {
   "cell_type": "code",
   "execution_count": null,
   "metadata": {},
   "outputs": [],
   "source": [
    "# .save() will update the existing `comment` instance.\n",
    "serializer = CommentSerializer(comment, data=data)\n",
    "serializer.save()"
   ]
  },
  {
   "cell_type": "markdown",
   "metadata": {},
   "source": [
    "# Overriding .save() directly.\n",
    "\n",
    "In some cases the .create() and .update() method names may not be meaningful. For example, in a contact form we may not be creating new instances, but instead sending an email or other message.\n",
    "\n",
    "In these cases you might instead choose to override .save() directly, as being more readable and meaningful."
   ]
  },
  {
   "cell_type": "code",
   "execution_count": null,
   "metadata": {},
   "outputs": [],
   "source": [
    "class ContactForm(serializers.Serializer):\n",
    "    email = serializers.EmailField()\n",
    "    message = serializers.CharField()\n",
    "\n",
    "    def save(self):\n",
    "        email = self.validated_data['email']\n",
    "        message = self.validated_data['message']\n",
    "        send_email(from=email, message=message)"
   ]
  },
  {
   "cell_type": "markdown",
   "metadata": {},
   "source": [
    "# Validation"
   ]
  },
  {
   "cell_type": "code",
   "execution_count": null,
   "metadata": {},
   "outputs": [],
   "source": [
    "serializer = CommentSerializer(data={'email': 'foobar', 'content': 'baz'})\n",
    "serializer.is_valid()\n",
    "\n",
    "False"
   ]
  },
  {
   "cell_type": "code",
   "execution_count": null,
   "metadata": {},
   "outputs": [],
   "source": [
    "serializer.errors\n",
    "\n",
    "{'email': [u'Enter a valid e-mail address.'], 'created': [u'This field is required.']}"
   ]
  },
  {
   "cell_type": "code",
   "execution_count": null,
   "metadata": {},
   "outputs": [],
   "source": [
    "# Return a 400 response if the data was invalid.\n",
    "serializer.is_valid(raise_exception=True)"
   ]
  },
  {
   "cell_type": "markdown",
   "metadata": {},
   "source": [
    "# Object-level validation"
   ]
  },
  {
   "cell_type": "markdown",
   "metadata": {},
   "source": [
    "To do any other validation that requires access to multiple fields, add a method called .validate() to your Serializer subclass. This method takes a single argument, which is a dictionary of field values. It should raise a serializers.ValidationError if necessary, or just return the validated values."
   ]
  },
  {
   "cell_type": "code",
   "execution_count": null,
   "metadata": {},
   "outputs": [],
   "source": [
    "from rest_framework import serializers\n",
    "\n",
    "class EventSerializer(serializers.Serializer):\n",
    "    description = serializers.CharField(max_length=100)\n",
    "    start = serializers.DateTimeField()\n",
    "    finish = serializers.DateTimeField()\n",
    "\n",
    "    def validate(self, data):\n",
    "        \"\"\"\n",
    "        Check that the start is before the stop.\n",
    "        \"\"\"\n",
    "        if data['start'] > data['finish']:\n",
    "            raise serializers.ValidationError(\"finish must occur after start\")\n",
    "        return data"
   ]
  },
  {
   "cell_type": "markdown",
   "metadata": {},
   "source": [
    "# Field-level validation"
   ]
  },
  {
   "cell_type": "markdown",
   "metadata": {},
   "source": [
    "You can specify custom field-level validation by adding .validate_<field_name> methods to your Serializer subclass. These are similar to the .clean_<field_name> methods on Django forms.\n",
    "\n",
    "These methods take a single argument, which is the field value that requires validation.\n",
    "\n",
    "Your validate_<field_name> methods should return the validated value or raise a serializers.ValidationError"
   ]
  },
  {
   "cell_type": "code",
   "execution_count": null,
   "metadata": {},
   "outputs": [],
   "source": [
    "from rest_framework import serializers\n",
    "\n",
    "class BlogPostSerializer(serializers.Serializer):\n",
    "    title = serializers.CharField(max_length=100)\n",
    "    content = serializers.CharField()\n",
    "\n",
    "    def validate_title(self, value):\n",
    "        \"\"\"\n",
    "        Check that the blog post is about Django.\n",
    "        \"\"\"\n",
    "        if 'django' not in value.lower():\n",
    "            raise serializers.ValidationError(\"Blog post is not about Django\")\n",
    "        return value"
   ]
  },
  {
   "cell_type": "markdown",
   "metadata": {},
   "source": [
    "# Individual fields validation\n",
    "\n",
    "Individual fields on a serializer can include validators, by declaring them on the field instance, for example:"
   ]
  },
  {
   "cell_type": "code",
   "execution_count": null,
   "metadata": {},
   "outputs": [],
   "source": [
    "def multiple_of_ten(value):\n",
    "    if value % 10 != 0:\n",
    "        raise serializers.ValidationError('Not a multiple of ten')\n",
    "\n",
    "class GameRecord(serializers.Serializer):\n",
    "    score = IntegerField(validators=[multiple_of_ten])\n",
    "    ..."
   ]
  },
  {
   "cell_type": "markdown",
   "metadata": {},
   "source": [
    "Serializer classes can also include reusable validators that are applied to the complete set of field data. These validators are included by declaring them on an inner Meta class, like so:"
   ]
  },
  {
   "cell_type": "code",
   "execution_count": null,
   "metadata": {},
   "outputs": [],
   "source": [
    "class EventSerializer(serializers.Serializer):\n",
    "    name = serializers.CharField()\n",
    "    room_number = serializers.IntegerField(choices=[101, 102, 103, 201])\n",
    "    date = serializers.DateField()\n",
    "\n",
    "    class Meta:\n",
    "        # Each room only has one event per day.\n",
    "        validators = UniqueTogetherValidator(\n",
    "            queryset=Event.objects.all(),\n",
    "            fields=['room_number', 'date']\n",
    "        )"
   ]
  },
  {
   "cell_type": "markdown",
   "metadata": {},
   "source": [
    "# Dealing with multiple objects\n",
    "\n",
    "To serialize a queryset or list of objects instead of a single object instance, you should pass the many=True flag when instantiating the serializer. You can then pass a queryset or list of objects to be serialized."
   ]
  },
  {
   "cell_type": "code",
   "execution_count": null,
   "metadata": {},
   "outputs": [],
   "source": [
    "queryset = Book.objects.all()\n",
    "serializer = BookSerializer(queryset, many=True)\n",
    "serializer.data\n",
    "\n",
    "[\n",
    "\n",
    "    {'id': 0, 'title': 'The electric kool-aid acid test', 'author': 'Tom Wolfe'},\n",
    "    {'id': 1, 'title': 'If this is a man', 'author': 'Primo Levi'},\n",
    "    {'id': 2, 'title': 'The wind-up bird chronicle', 'author': 'Haruki Murakami'}\n",
    "\n",
    "]"
   ]
  },
  {
   "cell_type": "markdown",
   "metadata": {},
   "source": [
    "# HyperlinkedModelSerializer"
   ]
  },
  {
   "cell_type": "markdown",
   "metadata": {},
   "source": [
    "The HyperlinkedModelSerializer class is similar to the ModelSerializer class except that it uses hyperlinks to represent relationships, rather than primary keys.\n",
    "\n",
    "By default the serializer will include a url field instead of a primary key field.\n",
    "\n",
    "The url field will be represented using a HyperlinkedIdentityField serializer field, and any relationships on the model will be represented using a HyperlinkedRelatedField serializer field.\n",
    "\n",
    "You can explicitly include the primary key by adding it to the fields option, for example:\n"
   ]
  },
  {
   "cell_type": "code",
   "execution_count": null,
   "metadata": {},
   "outputs": [],
   "source": [
    "class AccountSerializer(serializers.HyperlinkedModelSerializer):\n",
    "    class Meta:\n",
    "        model = Account\n",
    "        fields = ('url', 'id', 'account_name', 'users', 'created')"
   ]
  },
  {
   "cell_type": "markdown",
   "metadata": {},
   "source": [
    "When instantiating a HyperlinkedModelSerializer you must include the current request in the serializer context, for example:"
   ]
  },
  {
   "cell_type": "code",
   "execution_count": null,
   "metadata": {},
   "outputs": [],
   "source": [
    "serializer = AccountSerializer(queryset, context={'request': request})"
   ]
  },
  {
   "cell_type": "markdown",
   "metadata": {},
   "source": [
    "# ModelSerializer\n",
    "\n",
    "Often you'll want serializer classes that map closely to Django model definitions.\n",
    "\n",
    "The ModelSerializer class provides a shortcut that lets you automatically create a Serializer class with fields that correspond to the Model fields.\n",
    "\n",
    "The ModelSerializer class is the same as a regular Serializer class, except that:\n",
    "\n",
    ">It will automatically generate a set of fields for you, based on the model.\n",
    "\n",
    ">It will automatically generate validators for the serializer, such as unique_together validators.\n",
    "\n",
    ">It includes simple default implementations of .create() and .update()."
   ]
  },
  {
   "cell_type": "code",
   "execution_count": null,
   "metadata": {},
   "outputs": [],
   "source": [
    "class AccountSerializer(serializers.ModelSerializer):\n",
    "    class Meta:\n",
    "        model = Account\n",
    "        fields = ('id', 'account_name', 'users', 'created')"
   ]
  },
  {
   "cell_type": "markdown",
   "metadata": {},
   "source": [
    "# Specifying which fields to include"
   ]
  },
  {
   "cell_type": "code",
   "execution_count": null,
   "metadata": {},
   "outputs": [],
   "source": [
    "class AccountSerializer(serializers.ModelSerializer):\n",
    "    class Meta:\n",
    "        model = Account\n",
    "        fields = ('id', 'account_name', 'users', 'created')"
   ]
  },
  {
   "cell_type": "code",
   "execution_count": null,
   "metadata": {},
   "outputs": [],
   "source": [
    "class AccountSerializer(serializers.ModelSerializer):\n",
    "    class Meta:\n",
    "        model = Account\n",
    "        fields = '__all__'"
   ]
  },
  {
   "cell_type": "code",
   "execution_count": null,
   "metadata": {},
   "outputs": [],
   "source": [
    "class AccountSerializer(serializers.ModelSerializer):\n",
    "    class Meta:\n",
    "        model = Account\n",
    "        exclude = ('users',)"
   ]
  },
  {
   "cell_type": "markdown",
   "metadata": {},
   "source": [
    "# Serializer class\n",
    "\n",
    "1. Create a file in the api directory named serializers.py.\n",
    "3. A serializer class is very similar to a Django Form class, and includes similar validation flags on the various fields, such as required, max_length and default.\n",
    "4. The create() and update() methods define how fully fledged instances are created or modified when calling serializer.save()\n"
   ]
  },
  {
   "cell_type": "code",
   "execution_count": null,
   "metadata": {},
   "outputs": [],
   "source": [
    "from rest_framework import serializers\n",
    "from my_app import models\n",
    "\n",
    "\n",
    "class AuthorSerializer(serializers.Serializer):\n",
    "    id = serializers.IntegerField(read_only=True)\n",
    "    first_name = serializers.CharField(max_length=100)\n",
    "    last_name = serializers.CharField(max_length=100)\n",
    "    date_of_birth = serializers.DateField()\n",
    "    date_of_death = serializers.DateField('Died',)\n",
    "\n",
    "    def create(self, validated_data):\n",
    "        \"\"\"\n",
    "        Create and return a new `Author` instance, given the validated data.\n",
    "        \"\"\"\n",
    "        return models.Author.objects.create(**validated_data)\n",
    "\n",
    "    def update(self, instance, validated_data):\n",
    "        \"\"\"\n",
    "        Update and return an existing `Author`\n",
    "            instance, given the validated data.\n",
    "        \"\"\"\n",
    "        instance.first_name = validated_data.get(\n",
    "                                'first_name',\n",
    "                                instance.first_name\n",
    "        )\n",
    "\n",
    "        instance.last_name = validated_data.get(\n",
    "                                'last_name',\n",
    "                                instance.last_name\n",
    "        )\n",
    "\n",
    "        instance.date_of_birth = validated_data.get(\n",
    "                                    'date_of_birth',\n",
    "                                    instance.date_of_birth\n",
    "        )\n",
    "\n",
    "        instance.date_of_death = validated_data.get(\n",
    "                                    'date_of_death',\n",
    "                                    instance.date_of_death\n",
    "        )\n",
    "\n",
    "        instance.save()\n",
    "        return instance\n"
   ]
  },
  {
   "cell_type": "markdown",
   "metadata": {},
   "source": [
    "# Working with Serializers"
   ]
  },
  {
   "cell_type": "code",
   "execution_count": null,
   "metadata": {},
   "outputs": [],
   "source": [
    "python manage.py shell"
   ]
  },
  {
   "cell_type": "code",
   "execution_count": null,
   "metadata": {},
   "outputs": [],
   "source": [
    ">>> from my_app import models\n",
    ">>> from my_app.api import serializers\n",
    ">>> from rest_framework.renderers import JSONRenderer"
   ]
  },
  {
   "cell_type": "code",
   "execution_count": null,
   "metadata": {},
   "outputs": [],
   "source": [
    ">>> shakespeare = models.Author(first_name='shakespeare',)\n",
    ">>> shakespeare.save()\n",
    ">>> models.Author.objects.all()\n",
    "\n",
    "<QuerySet [<Author: , shakespeare>]>\n"
   ]
  },
  {
   "cell_type": "code",
   "execution_count": null,
   "metadata": {},
   "outputs": [],
   "source": [
    ">>> serializers.AuthorSerializer()\n",
    "\n",
    "AuthorSerializer():\n",
    "    id = IntegerField(read_only=True)\n",
    "    first_name = CharField(max_length=100)\n",
    "    last_name = CharField(max_length=100)\n",
    "    date_of_birth = DateField()\n",
    "    date_of_death = DateField('Died')\n"
   ]
  },
  {
   "cell_type": "code",
   "execution_count": null,
   "metadata": {},
   "outputs": [],
   "source": [
    ">>> serializers.AuthorSerializer(shakespeare)\n",
    "\n",
    "AuthorSerializer(<Author: , shakespeare>):\n",
    "    id = IntegerField(read_only=True)\n",
    "    first_name = CharField(max_length=100)\n",
    "    last_name = CharField(max_length=100)\n",
    "    date_of_birth = DateField()\n",
    "    date_of_death = DateField('Died')\n"
   ]
  },
  {
   "cell_type": "markdown",
   "metadata": {},
   "source": [
    "## Python native datatypes"
   ]
  },
  {
   "cell_type": "code",
   "execution_count": null,
   "metadata": {},
   "outputs": [],
   "source": [
    ">>> shakespeare_serialized = serializers.AuthorSerializer(shakespeare)\n",
    ">>> shakespeare_serialized.data\n",
    "\n",
    "{'first_name': 'shakespeare', 'last_name': '', 'id': 1, 'date_of_birth': None, 'date_of_death': None}"
   ]
  },
  {
   "cell_type": "markdown",
   "metadata": {},
   "source": [
    "## rendering Shakespeare into json"
   ]
  },
  {
   "cell_type": "code",
   "execution_count": null,
   "metadata": {},
   "outputs": [],
   "source": [
    ">>> JSONRenderer().render(shakespeare_serialized.data)\n",
    "\n",
    "b'{\"id\":2,\"first_name\":\"shakespeare\",\"last_name\":\"\",\"date_of_birth\":null,\"date_of_death\":null}'"
   ]
  },
  {
   "cell_type": "markdown",
   "metadata": {},
   "source": [
    "## serialize querysets"
   ]
  },
  {
   "cell_type": "code",
   "execution_count": null,
   "metadata": {},
   "outputs": [],
   "source": [
    ">>> serializer = serializers.AuthorSerializer(models.Author.objects.all(), many=True)\n",
    ">>> serializer.data\n",
    "\n",
    "[\n",
    "    OrderedDict([('id', 3), ('first_name', 'Franz'), ('last_name', 'Kafka'), ('date_of_birth', '2018-03-04'), ('date_of_death', 'Died')])\n",
    "]\n",
    "\n"
   ]
  },
  {
   "cell_type": "markdown",
   "metadata": {},
   "source": [
    "## Using ModelSerializers\n",
    "\n",
    "### Settings.py"
   ]
  },
  {
   "cell_type": "code",
   "execution_count": null,
   "metadata": {},
   "outputs": [],
   "source": [
    "# Application definition\n",
    "\n",
    "INSTALLED_APPS = [\n",
    "    'my_app.apps.MyAppConfig',\n",
    "    'rest_framework',\n",
    "    'django.contrib.admin',\n",
    "    'django.contrib.auth',\n",
    "    'django.contrib.contenttypes',\n",
    "    'django.contrib.sessions',\n",
    "    'django.contrib.messages',\n",
    "    'django.contrib.staticfiles',\n",
    "]"
   ]
  },
  {
   "cell_type": "markdown",
   "metadata": {},
   "source": [
    "### serailizers.py"
   ]
  },
  {
   "cell_type": "code",
   "execution_count": null,
   "metadata": {},
   "outputs": [],
   "source": [
    "class AuthorSerializer(serializers.ModelSerializer):\n",
    "    class Meta:\n",
    "        model = models.Author\n",
    "        fields = ['id', 'first_name', 'last_name',\n",
    "                  'date_of_birth', 'date_of_death', ]"
   ]
  },
  {
   "cell_type": "markdown",
   "metadata": {},
   "source": [
    "### views.py"
   ]
  },
  {
   "cell_type": "code",
   "execution_count": null,
   "metadata": {},
   "outputs": [],
   "source": [
    "from django.http import HttpResponse\n",
    "\n",
    "from rest_framework import generics\n",
    "\n",
    "from . import serializers\n",
    "from my_app import models\n",
    "\n",
    "\n",
    "def test(request, ):\n",
    "    return HttpResponse('well done!')\n",
    "\n",
    "\n",
    "class AuthorListApiView(generics.ListAPIView):\n",
    "    serializer_class = serializers.AuthorSerializer\n",
    "\n",
    "    def get_queryset(self, ):\n",
    "        return models.Author.objects.all()\n"
   ]
  },
  {
   "cell_type": "markdown",
   "metadata": {},
   "source": [
    "### url.py"
   ]
  },
  {
   "cell_type": "code",
   "execution_count": null,
   "metadata": {},
   "outputs": [],
   "source": [
    "from django.conf.urls import url\n",
    "\n",
    "from . import views\n",
    "\n",
    "\n",
    "urlpatterns = [\n",
    "    url(r'^test/$', view=views.test, name='test'),\n",
    "    url(\n",
    "        r'^author/$',\n",
    "        view=views.AuthorListApiView.as_view(),\n",
    "        name='author-list-api-view'\n",
    "    ),\n",
    "\n",
    "]"
   ]
  },
  {
   "cell_type": "markdown",
   "metadata": {},
   "source": [
    "### output\n",
    "\n",
    "<img src='pics/Screenshot from 2018-03-06 15-21-21.png' />"
   ]
  },
  {
   "cell_type": "markdown",
   "metadata": {},
   "source": [
    "# Swagger"
   ]
  },
  {
   "cell_type": "markdown",
   "metadata": {},
   "source": [
    "### settings.py"
   ]
  },
  {
   "cell_type": "code",
   "execution_count": null,
   "metadata": {},
   "outputs": [],
   "source": [
    "INSTALLED_APPS = [\n",
    "    'my_app.apps.MyAppConfig',\n",
    "    'rest_framework',\n",
    "    'rest_framework_swagger',\n",
    "    'django.contrib.admin',\n",
    "    'django.contrib.auth',\n",
    "    'django.contrib.contenttypes',\n",
    "    'django.contrib.sessions',\n",
    "    'django.contrib.messages',\n",
    "    'django.contrib.staticfiles',\n",
    "]\n"
   ]
  },
  {
   "cell_type": "markdown",
   "metadata": {},
   "source": [
    "### urls.py"
   ]
  },
  {
   "cell_type": "code",
   "execution_count": null,
   "metadata": {},
   "outputs": [],
   "source": [
    "from django.conf.urls import url\n",
    "\n",
    "from . import views\n",
    "\n",
    "from rest_framework_swagger.views import get_swagger_view\n",
    "\n",
    "swagger = get_swagger_view(title='Public API')\n",
    "\n",
    "urlpatterns = [\n",
    "    url(r'^test/$', view=views.test, name='test'),\n",
    "    url(\n",
    "        r'^author/$',\n",
    "        view=views.AuthorListApiView.as_view(),\n",
    "        name='author-list-api-view'\n",
    "    ),\n",
    "    url(r'^swagger/$', view=swagger, name='swagger'),\n",
    "]\n"
   ]
  },
  {
   "cell_type": "markdown",
   "metadata": {},
   "source": [
    "<img src='pics/Screenshot from 2018-03-06 15-46-35.png' />"
   ]
  }
 ],
 "metadata": {
  "kernelspec": {
   "display_name": "Python 2",
   "language": "python",
   "name": "python2"
  },
  "language_info": {
   "codemirror_mode": {
    "name": "ipython",
    "version": 2
   },
   "file_extension": ".py",
   "mimetype": "text/x-python",
   "name": "python",
   "nbconvert_exporter": "python",
   "pygments_lexer": "ipython2",
   "version": "2.7.12"
  }
 },
 "nbformat": 4,
 "nbformat_minor": 2
}
