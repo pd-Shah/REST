{
 "cells": [
  {
   "cell_type": "markdown",
   "metadata": {},
   "source": [
    "# REST API\n",
    "<img src='pics/0.png' />"
   ]
  },
  {
   "cell_type": "markdown",
   "metadata": {},
   "source": [
    "# Serialization and Deserialization\n",
    "\n",
    "<img src='pics/chicken-egg.png' />"
   ]
  },
  {
   "cell_type": "markdown",
   "metadata": {},
   "source": [
    "## serialization"
   ]
  },
  {
   "cell_type": "code",
   "execution_count": null,
   "metadata": {},
   "outputs": [],
   "source": [
    "object = dict(int_list=[1, 2, 3],\n",
    " \n",
    "              text='string',\n",
    " \n",
    "              number=3.44,\n",
    " \n",
    "              boolean=True,\n",
    " \n",
    "              none=None)\n",
    "\n",
    "print(simple)"
   ]
  },
  {
   "cell_type": "code",
   "execution_count": null,
   "metadata": {},
   "outputs": [],
   "source": [
    "{'none': None, 'int_list': [1, 2, 3], 'text': 'string', 'boolean': True, 'number': 3.44}"
   ]
  },
  {
   "cell_type": "code",
   "execution_count": null,
   "metadata": {},
   "outputs": [],
   "source": [
    "print(json.dumps(object, indent=4))"
   ]
  },
  {
   "cell_type": "code",
   "execution_count": null,
   "metadata": {},
   "outputs": [],
   "source": [
    "{\n",
    " \n",
    "    \"text\": \"string\",\n",
    " \n",
    "    \"none\": null,\n",
    " \n",
    "    \"boolean\": true,\n",
    " \n",
    "    \"number\": 3.44,\n",
    " \n",
    "    \"int_list\": [\n",
    " \n",
    "        1,\n",
    " \n",
    "        2,\n",
    " \n",
    "        3\n",
    " \n",
    "    ]\n",
    " \n",
    "}"
   ]
  },
  {
   "cell_type": "markdown",
   "metadata": {},
   "source": [
    "### Deserialization"
   ]
  },
  {
   "cell_type": "code",
   "execution_count": null,
   "metadata": {},
   "outputs": [],
   "source": [
    "serialized=json.dumps(object, indent=4)\n",
    "print(serialized)"
   ]
  },
  {
   "cell_type": "code",
   "execution_count": null,
   "metadata": {},
   "outputs": [],
   "source": [
    "{\n",
    "    \"none\": null,\n",
    "    \"int_list\": [\n",
    "        1,\n",
    "        2,\n",
    "        3\n",
    "    ],\n",
    "    \"text\": \"string\",\n",
    "    \"boolean\": true,\n",
    "    \"number\": 3.44\n",
    "}"
   ]
  },
  {
   "cell_type": "code",
   "execution_count": null,
   "metadata": {},
   "outputs": [],
   "source": [
    "json.loads(serialized)"
   ]
  },
  {
   "cell_type": "code",
   "execution_count": null,
   "metadata": {},
   "outputs": [],
   "source": [
    "{'text': 'string', 'int_list': [1, 2, 3], 'none': None, 'boolean': True, 'number': 3.44}"
   ]
  },
  {
   "cell_type": "markdown",
   "metadata": {},
   "source": [
    "# The Serializer class\n",
    "\n",
    "1. Create a file in the api directory named serializers.py.\n",
    "3. A serializer class is very similar to a Django Form class, and includes similar validation flags on the various fields, such as required, max_length and default.\n",
    "4. The create() and update() methods define how fully fledged instances are created or modified when calling serializer.save()\n"
   ]
  },
  {
   "cell_type": "code",
   "execution_count": null,
   "metadata": {},
   "outputs": [],
   "source": [
    "from rest_framework import serializers\n",
    "from my_app import models\n",
    "\n",
    "\n",
    "class AuthorSerializer(serializers.Serializer):\n",
    "    id = serializers.IntegerField(read_only=True)\n",
    "    first_name = serializers.CharField(max_length=100)\n",
    "    last_name = serializers.CharField(max_length=100)\n",
    "    date_of_birth = serializers.DateField()\n",
    "    date_of_death = serializers.DateField('Died',)\n",
    "\n",
    "    def create(self, validated_data):\n",
    "        \"\"\"\n",
    "        Create and return a new `Snippet` instance, given the validated data.\n",
    "        \"\"\"\n",
    "        return models.Author.objects.create(**validated_data)\n",
    "\n",
    "    def update(self, instance, validated_data):\n",
    "        \"\"\"\n",
    "        Update and return an existing `Snippet`\n",
    "            instance, given the validated data.\n",
    "        \"\"\"\n",
    "        instance.first_name = validated_data.get(\n",
    "                                'first_name',\n",
    "                                instance.first_name\n",
    "        )\n",
    "\n",
    "        instance.last_name = validated_data.get(\n",
    "                                'last_name',\n",
    "                                instance.last_name\n",
    "        )\n",
    "\n",
    "        instance.date_of_birth = validated_data.get(\n",
    "                                    'date_of_birth',\n",
    "                                    instance.date_of_birth\n",
    "        )\n",
    "\n",
    "        instance.date_of_death = validated_data.get(\n",
    "                                    'date_of_death',\n",
    "                                    instance.date_of_death\n",
    "        )\n",
    "\n",
    "        instance.save()\n",
    "        return instance\n"
   ]
  },
  {
   "cell_type": "markdown",
   "metadata": {},
   "source": [
    "# Working with Serializers"
   ]
  },
  {
   "cell_type": "code",
   "execution_count": null,
   "metadata": {},
   "outputs": [],
   "source": [
    "python manage.py shell"
   ]
  },
  {
   "cell_type": "code",
   "execution_count": null,
   "metadata": {},
   "outputs": [],
   "source": [
    ">>> from my_app import models\n",
    ">>> from my_app.api import serializers\n",
    ">>> from rest_framework.renderers import JSONRenderer"
   ]
  },
  {
   "cell_type": "code",
   "execution_count": null,
   "metadata": {},
   "outputs": [],
   "source": [
    ">>> shakespeare = models.Author(first_name='shakespeare',)\n",
    ">>> shakespeare.save()\n",
    ">>> models.Author.objects.all()\n",
    "\n",
    "<QuerySet [<Author: , shakespeare>]>\n"
   ]
  },
  {
   "cell_type": "code",
   "execution_count": null,
   "metadata": {},
   "outputs": [],
   "source": [
    ">>> serializers.AuthorSerializer()\n",
    "\n",
    "AuthorSerializer():\n",
    "    id = IntegerField(read_only=True)\n",
    "    first_name = CharField(max_length=100)\n",
    "    last_name = CharField(max_length=100)\n",
    "    date_of_birth = DateField()\n",
    "    date_of_death = DateField('Died')\n"
   ]
  },
  {
   "cell_type": "code",
   "execution_count": null,
   "metadata": {},
   "outputs": [],
   "source": [
    ">>> serializers.AuthorSerializer(shakespeare)\n",
    "\n",
    "AuthorSerializer(<Author: , shakespeare>):\n",
    "    id = IntegerField(read_only=True)\n",
    "    first_name = CharField(max_length=100)\n",
    "    last_name = CharField(max_length=100)\n",
    "    date_of_birth = DateField()\n",
    "    date_of_death = DateField('Died')\n"
   ]
  },
  {
   "cell_type": "markdown",
   "metadata": {},
   "source": [
    "## Python native datatypes"
   ]
  },
  {
   "cell_type": "code",
   "execution_count": null,
   "metadata": {},
   "outputs": [],
   "source": [
    ">>> shakespeare_serialized = serializers.AuthorSerializer(shakespeare)\n",
    ">>> shakespeare_serialized.data\n",
    "\n",
    "{'first_name': 'shakespeare', 'last_name': '', 'id': 1, 'date_of_birth': None, 'date_of_death': None}"
   ]
  },
  {
   "cell_type": "markdown",
   "metadata": {},
   "source": [
    "## rendering Shakespeare into json"
   ]
  },
  {
   "cell_type": "code",
   "execution_count": null,
   "metadata": {},
   "outputs": [],
   "source": [
    ">>> JSONRenderer().render(shakespeare_serialized.data)\n",
    "\n",
    "b'{\"id\":2,\"first_name\":\"shakespeare\",\"last_name\":\"\",\"date_of_birth\":null,\"date_of_death\":null}'"
   ]
  },
  {
   "cell_type": "markdown",
   "metadata": {},
   "source": [
    "## serialize querysets"
   ]
  },
  {
   "cell_type": "code",
   "execution_count": null,
   "metadata": {},
   "outputs": [],
   "source": [
    ">>> serializer = serializers.AuthorSerializer(models.Author.objects.all(), many=True)\n",
    ">>> serializer.data\n",
    "\n",
    "[\n",
    "    OrderedDict([('id', 3), ('first_name', 'Franz'), ('last_name', 'Kafka'), ('date_of_birth', '2018-03-04'), ('date_of_death', 'Died')])\n",
    "]\n",
    "\n"
   ]
  },
  {
   "cell_type": "markdown",
   "metadata": {},
   "source": [
    "## Using ModelSerializers"
   ]
  },
  {
   "cell_type": "code",
   "execution_count": null,
   "metadata": {},
   "outputs": [],
   "source": []
  }
 ],
 "metadata": {
  "kernelspec": {
   "display_name": "Python 2",
   "language": "python",
   "name": "python2"
  },
  "language_info": {
   "codemirror_mode": {
    "name": "ipython",
    "version": 2
   },
   "file_extension": ".py",
   "mimetype": "text/x-python",
   "name": "python",
   "nbconvert_exporter": "python",
   "pygments_lexer": "ipython2",
   "version": "2.7.12"
  }
 },
 "nbformat": 4,
 "nbformat_minor": 2
}
