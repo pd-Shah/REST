{
 "cells": [
  {
   "cell_type": "markdown",
   "metadata": {},
   "source": [
    "# REST API\n",
    "<img src='pics/0.png' />"
   ]
  },
  {
   "cell_type": "markdown",
   "metadata": {},
   "source": [
    "# Requirments:\n",
    "\n",
    "python -> Django -> REST"
   ]
  },
  {
   "cell_type": "markdown",
   "metadata": {},
   "source": [
    "# What Is REST API\n",
    "\n",
    "<img src='pics/infographic-3.png'>"
   ]
  },
  {
   "cell_type": "markdown",
   "metadata": {},
   "source": [
    "# What is Django-REST\n",
    "\n",
    "<img src='pics/logo.png' />\n",
    "\n",
    "Django REST framework is a powerful and flexible toolkit for building Web APIs.\n",
    "\n",
    "Some reasons you might want to use REST framework:\n",
    "\n",
    "The Web browsable API is a huge usability win for your developers.\n",
    "\n",
    "Authentication policies including packages for OAuth1a and OAuth2.\n",
    "\n",
    "Serialization that supports both ORM and non-ORM data sources.\n",
    "\n",
    "Customizable all the way down - just use regular function-based views if you don't need the more powerful features.\n",
    "\n",
    "Extensive documentation, and great community support.\n",
    "\n",
    "Used and trusted by internationally recognised companies including Mozilla, Red Hat, Heroku, and Eventbrite."
   ]
  },
  {
   "cell_type": "markdown",
   "metadata": {},
   "source": [
    "# Installlation\n",
    "\n",
    "## Atom\n",
    "\n",
    ">https://atom.io"
   ]
  },
  {
   "cell_type": "markdown",
   "metadata": {},
   "source": [
    "\n",
    "## virtualenv\n",
    "\n",
    ">sudo pip install virtualenv \n",
    "\n",
    "## Python\n",
    "\n",
    "Python is a programming language that lets you work quickly and integrate systems more effectively.\n",
    "\n",
    "> https://www.python.org\n",
    "\n",
    "## Django\n",
    "\n",
    "Django is a high-level Python Web framework that encourages rapid development and clean, pragmatic design. Built by experienced developers, it takes care of much of the hassle of Web development, so you can focus on writing your app without needing to reinvent the wheel. It’s free and open source.\n",
    "\n",
    "> pip install Django\n",
    " \n",
    "> https://www.djangoproject.com\n",
    "\n",
    "## REST\n",
    "\n",
    "Django REST framework is a powerful and flexible toolkit for building Web APIs.\n",
    "\n",
    "> pip install djangorestframework\n",
    "\n",
    "> pip install markdown       # Markdown support for the browsable API.\n",
    "\n",
    "> pip install django-filter  # Filtering support\n",
    "\n",
    "> http://www.django-rest-framework.org\n",
    "\n",
    "## Documenting your API, Swagger\n",
    "\n",
    "<img src='pics/withdocs.jpg' />\n",
    "\n",
    "\n",
    "## Get Ready\n",
    "\n",
    "<img src='pics/abc1.jpg' />\n",
    "\n",
    "## Project Directory\n",
    "\n",
    "<img src='pics/Screenshot from 2018-03-03 11-51-23.png' />\n",
    "\n",
    "\n",
    "## Project URL:"
   ]
  },
  {
   "cell_type": "code",
   "execution_count": null,
   "metadata": {},
   "outputs": [],
   "source": [
    "from django.conf.urls import url, include\n",
    "from django.contrib import admin\n",
    "\n",
    "urlpatterns = [\n",
    "    url(r'^admin/', admin.site.urls),\n",
    "    url(r'^myapp/', include('my_app.urls', namespace='my_app')),\n",
    "]\n"
   ]
  },
  {
   "cell_type": "markdown",
   "metadata": {},
   "source": [
    "## Application URL"
   ]
  },
  {
   "cell_type": "code",
   "execution_count": null,
   "metadata": {},
   "outputs": [],
   "source": [
    "from django.conf.urls import url, include\n",
    "\n",
    "urlpatterns = [\n",
    "    url(r'^api/',\n",
    "        include('my_app.api.urls', namespace='my_app'), name='myapp_api'),\n",
    "]\n"
   ]
  },
  {
   "cell_type": "markdown",
   "metadata": {},
   "source": [
    "## api URL"
   ]
  },
  {
   "cell_type": "code",
   "execution_count": null,
   "metadata": {},
   "outputs": [],
   "source": [
    "from django.conf.urls import url\n",
    "\n",
    "from . import views\n",
    "\n",
    "\n",
    "urlpatterns = [\n",
    "    url(r'^test/$', view=views.test, name='test'),\n",
    "]\n"
   ]
  },
  {
   "cell_type": "markdown",
   "metadata": {},
   "source": [
    "## api Views.py"
   ]
  },
  {
   "cell_type": "code",
   "execution_count": null,
   "metadata": {},
   "outputs": [],
   "source": [
    "from django.http import HttpResponse\n",
    "\n",
    "\n",
    "def test(request, ):\n",
    "    return HttpResponse('well done!')\n"
   ]
  },
  {
   "cell_type": "markdown",
   "metadata": {},
   "source": [
    "## Check It"
   ]
  },
  {
   "cell_type": "code",
   "execution_count": null,
   "metadata": {},
   "outputs": [],
   "source": [
    "http://127.0.0.1:8000/myapp/api/test/"
   ]
  },
  {
   "cell_type": "markdown",
   "metadata": {},
   "source": [
    "# Defining the LocalLibrary Models"
   ]
  },
  {
   "cell_type": "code",
   "execution_count": null,
   "metadata": {},
   "outputs": [],
   "source": [
    "class Genre(models.Model):\n",
    "    \"\"\"\n",
    "    Model representing a book genre (e.g. Science Fiction, Non Fiction).\n",
    "    \"\"\"\n",
    "    name = models.CharField(max_length=200, help_text=\"Enter a book genre (e.g. Science Fiction, French Poetry etc.)\")\n",
    "    \n",
    "    def __str__(self):\n",
    "        \"\"\"\n",
    "        String for representing the Model object (in Admin site etc.)\n",
    "        \"\"\"\n",
    "        return self.name\n",
    "\n"
   ]
  },
  {
   "cell_type": "code",
   "execution_count": null,
   "metadata": {},
   "outputs": [],
   "source": [
    "from django.urls import reverse #Used to generate URLs by reversing the URL patterns\n",
    "\n",
    "class Book(models.Model):\n",
    "    \"\"\"\n",
    "    Model representing a book (but not a specific copy of a book).\n",
    "    \"\"\"\n",
    "    title = models.CharField(max_length=200)\n",
    "    author = models.ForeignKey('Author', on_delete=models.SET_NULL, null=True)\n",
    "    # Foreign Key used because book can only have one author, but authors can have multiple books\n",
    "    # Author as a string rather than object because it hasn't been declared yet in the file.\n",
    "    summary = models.TextField(max_length=1000, help_text=\"Enter a brief description of the book\")\n",
    "    isbn = models.CharField('ISBN',max_length=13, help_text='13 Character <a href=\"https://www.isbn-international.org/content/what-isbn\">ISBN number</a>')\n",
    "    genre = models.ManyToManyField(Genre, help_text=\"Select a genre for this book\")\n",
    "    # ManyToManyField used because genre can contain many books. Books can cover many genres.\n",
    "    # Genre class has already been defined so we can specify the object above.\n",
    "    \n",
    "    def __str__(self):\n",
    "        \"\"\"\n",
    "        String for representing the Model object.\n",
    "        \"\"\"\n",
    "        return self.title\n",
    "    \n",
    "    \n",
    "    def get_absolute_url(self):\n",
    "        \"\"\"\n",
    "        Returns the url to access a particular book instance.\n",
    "        \"\"\"\n",
    "        return reverse('book-detail', args=[str(self.id)])\n",
    "\n"
   ]
  },
  {
   "cell_type": "code",
   "execution_count": null,
   "metadata": {},
   "outputs": [],
   "source": [
    "import uuid # Required for unique book instances\n",
    "\n",
    "class BookInstance(models.Model):\n",
    "    \"\"\"\n",
    "    Model representing a specific copy of a book (i.e. that can be borrowed from the library).\n",
    "    \"\"\"\n",
    "    id = models.UUIDField(primary_key=True, default=uuid.uuid4, help_text=\"Unique ID for this particular book across whole library\")\n",
    "    book = models.ForeignKey('Book', on_delete=models.SET_NULL, null=True) \n",
    "    imprint = models.CharField(max_length=200)\n",
    "    due_back = models.DateField(null=True, blank=True)\n",
    "\n",
    "    LOAN_STATUS = (\n",
    "        ('m', 'Maintenance'),\n",
    "        ('o', 'On loan'),\n",
    "        ('a', 'Available'),\n",
    "        ('r', 'Reserved'),\n",
    "    )\n",
    "\n",
    "    status = models.CharField(max_length=1, choices=LOAN_STATUS, blank=True, default='m', help_text='Book availability')\n",
    "\n",
    "    class Meta:\n",
    "        ordering = [\"due_back\"]\n",
    "        \n",
    "\n",
    "    def __str__(self):\n",
    "        \"\"\"\n",
    "        String for representing the Model object\n",
    "        \"\"\"\n",
    "        return '%s (%s)' % (self.id,self.book.title)"
   ]
  },
  {
   "cell_type": "code",
   "execution_count": null,
   "metadata": {},
   "outputs": [],
   "source": [
    "class Author(models.Model):\n",
    "    \"\"\"\n",
    "    Model representing an author.\n",
    "    \"\"\"\n",
    "    first_name = models.CharField(max_length=100)\n",
    "    last_name = models.CharField(max_length=100)\n",
    "    date_of_birth = models.DateField(null=True, blank=True)\n",
    "    date_of_death = models.DateField('Died', null=True, blank=True)\n",
    "    \n",
    "    def get_absolute_url(self):\n",
    "        \"\"\"\n",
    "        Returns the url to access a particular author instance.\n",
    "        \"\"\"\n",
    "        return reverse('author-detail', args=[str(self.id)])\n",
    "    \n",
    "\n",
    "    def __str__(self):\n",
    "        \"\"\"\n",
    "        String for representing the Model object.\n",
    "        \"\"\"\n",
    "        return '%s, %s' % (self.last_name, self.first_name)\n",
    "\n"
   ]
  },
  {
   "cell_type": "markdown",
   "metadata": {},
   "source": [
    "# settings -> INSTALLED_APPS"
   ]
  },
  {
   "cell_type": "code",
   "execution_count": null,
   "metadata": {},
   "outputs": [],
   "source": [
    "INSTALLED_APPS = (\n",
    "    ...\n",
    "    'rest_framework',\n",
    "    'myapp.apps.MyAppConfig',\n",
    ")"
   ]
  },
  {
   "cell_type": "markdown",
   "metadata": {},
   "source": [
    "# Hit The DataBase"
   ]
  },
  {
   "cell_type": "code",
   "execution_count": null,
   "metadata": {},
   "outputs": [],
   "source": [
    "python manage.py makemigrations\n",
    "python manage.py migrate"
   ]
  },
  {
   "cell_type": "markdown",
   "metadata": {},
   "source": [
    "# Ready For launch\n",
    "\n",
    "<img src='pics/174672634.jpg' />\n",
    "\n",
    "# FileRepository On GitHub\n",
    "\n",
    "> https://github.com/pd-Shah/REST"
   ]
  }
 ],
 "metadata": {
  "kernelspec": {
   "display_name": "Python 2",
   "language": "python",
   "name": "python2"
  },
  "language_info": {
   "codemirror_mode": {
    "name": "ipython",
    "version": 2
   },
   "file_extension": ".py",
   "mimetype": "text/x-python",
   "name": "python",
   "nbconvert_exporter": "python",
   "pygments_lexer": "ipython2",
   "version": "2.7.12"
  }
 },
 "nbformat": 4,
 "nbformat_minor": 2
}
