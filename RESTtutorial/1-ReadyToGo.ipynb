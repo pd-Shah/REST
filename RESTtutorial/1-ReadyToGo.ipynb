{
 "cells": [
  {
   "cell_type": "markdown",
   "metadata": {},
   "source": [
    "# REST API\n",
    "<img src='pics/0.png' />"
   ]
  },
  {
   "cell_type": "markdown",
   "metadata": {},
   "source": [
    "# Requirments:\n",
    "\n",
    "python -> Django -> REST"
   ]
  },
  {
   "cell_type": "markdown",
   "metadata": {},
   "source": [
    "# What Is REST API\n",
    "\n",
    "<img src='pics/infographic-3.png'>"
   ]
  },
  {
   "cell_type": "markdown",
   "metadata": {},
   "source": [
    "# What is Django-REST\n",
    "\n",
    "<img src='pics/logo.png' />\n",
    "\n",
    "Django REST framework is a powerful and flexible toolkit for building Web APIs.\n",
    "\n",
    "Some reasons you might want to use REST framework:\n",
    "\n",
    "The Web browsable API is a huge usability win for your developers.\n",
    "\n",
    "Authentication policies including packages for OAuth1a and OAuth2.\n",
    "\n",
    "Serialization that supports both ORM and non-ORM data sources.\n",
    "\n",
    "Customizable all the way down - just use regular function-based views if you don't need the more powerful features.\n",
    "\n",
    "Extensive documentation, and great community support.\n",
    "\n",
    "Used and trusted by internationally recognised companies including Mozilla, Red Hat, Heroku, and Eventbrite."
   ]
  },
  {
   "cell_type": "markdown",
   "metadata": {},
   "source": [
    "# Installlation\n",
    "\n",
    "## Python\n",
    "\n",
    "Python is a programming language that lets you work quickly and integrate systems more effectively.\n",
    "\n",
    "> https://www.python.org\n",
    "\n",
    "## Django\n",
    "\n",
    "Django is a high-level Python Web framework that encourages rapid development and clean, pragmatic design. Built by experienced developers, it takes care of much of the hassle of Web development, so you can focus on writing your app without needing to reinvent the wheel. It’s free and open source.\n",
    "\n",
    "> pip install Django\n",
    " \n",
    "> https://www.djangoproject.com\n",
    "\n",
    "## REST\n",
    "\n",
    "Django REST framework is a powerful and flexible toolkit for building Web APIs.\n",
    "\n",
    "> pip install djangorestframework\n",
    "\n",
    "> pip install markdown       # Markdown support for the browsable API.\n",
    "\n",
    "> pip install django-filter  # Filtering support\n",
    "\n",
    "> http://www.django-rest-framework.org\n",
    "\n",
    "## Documenting your API, Swagger\n",
    "\n",
    "<img src='pics/withdocs.jpg' />\n",
    "\n",
    "## GIT\n"
   ]
  },
  {
   "cell_type": "markdown",
   "metadata": {},
   "source": [
    "# FileRepository On GitHub\n",
    "\n",
    "> https://github.com/pd-Shah/REST"
   ]
  }
 ],
 "metadata": {
  "kernelspec": {
   "display_name": "Python 2",
   "language": "python",
   "name": "python2"
  },
  "language_info": {
   "codemirror_mode": {
    "name": "ipython",
    "version": 2
   },
   "file_extension": ".py",
   "mimetype": "text/x-python",
   "name": "python",
   "nbconvert_exporter": "python",
   "pygments_lexer": "ipython2",
   "version": "2.7.12"
  }
 },
 "nbformat": 4,
 "nbformat_minor": 2
}
