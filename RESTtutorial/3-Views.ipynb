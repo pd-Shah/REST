{
 "cells": [
  {
   "cell_type": "markdown",
   "metadata": {},
   "source": [
    "# REST API\n",
    "<img src='pics/0.png' />"
   ]
  },
  {
   "cell_type": "markdown",
   "metadata": {},
   "source": [
    "## Request objects\n",
    "\n",
    "<img src='pics/Screenshot from 2018-03-07 15-38-28.png' />\n",
    "\n",
    "REST framework introduces a Request object that extends the regular HttpRequest, and provides more flexible request parsing. The core functionality of the Request object is the request.data attribute, which is similar to request.POST, but more useful for working with Web APIs."
   ]
  },
  {
   "cell_type": "code",
   "execution_count": null,
   "metadata": {},
   "outputs": [],
   "source": [
    "request.POST  # Only handles form data.  Only works for 'POST' method.\n",
    "request.data  # Handles arbitrary data.  Works for 'POST', 'PUT' and 'PATCH' methods."
   ]
  },
  {
   "cell_type": "markdown",
   "metadata": {},
   "source": [
    "## Response objects\n",
    "\n",
    "REST framework also introduces a Response object, which is a type of TemplateResponse that takes unrendered content and uses content negotiation to determine the correct content type to return to the client."
   ]
  },
  {
   "cell_type": "code",
   "execution_count": null,
   "metadata": {},
   "outputs": [],
   "source": [
    "return Response(data)  # Renders to content type as requested by the client."
   ]
  },
  {
   "cell_type": "markdown",
   "metadata": {},
   "source": [
    "# Request parsing\n",
    "\n",
    "### .data"
   ]
  },
  {
   "cell_type": "markdown",
   "metadata": {},
   "source": [
    "request.data returns the parsed content of the request body. This is similar to the standard request.POST and request.FILES attributes except that:\n",
    "\n",
    "> It includes all parsed content, including file and non-file inputs.\n",
    "\n",
    "> It supports parsing the content of HTTP methods other than POST, meaning that you can access the content of PUT and PATCH requests.\n",
    "\n",
    "> It supports REST framework's flexible request parsing, rather than just supporting form data. For example you can handle incoming JSON data in the same way that you handle incoming form data.\n"
   ]
  },
  {
   "cell_type": "markdown",
   "metadata": {},
   "source": [
    "### Authentication"
   ]
  },
  {
   "cell_type": "markdown",
   "metadata": {},
   "source": [
    "REST framework provides flexible, per-request authentication, that gives you the ability to:\n",
    "\n",
    ">Use different authentication policies for different parts of your API.\n",
    "\n",
    ">Support the use of multiple authentication policies.\n",
    "\n",
    ">Provide both user and token information associated with the incoming request.\n"
   ]
  },
  {
   "cell_type": "markdown",
   "metadata": {},
   "source": [
    "### .user\n",
    "request.user typically returns an instance of django.contrib.auth.models.User, although the behavior depends on the authentication policy being used.\n",
    "\n",
    "If the request is unauthenticated the default value of request.user is an instance of django.contrib.auth.models.AnonymousUser."
   ]
  },
  {
   "cell_type": "markdown",
   "metadata": {},
   "source": [
    "### .auth\n",
    "\n",
    "request.auth returns any additional authentication context. The exact behavior of request.auth depends on the authentication policy being used, but it may typically be an instance of the token that the request was authenticated against.\n",
    "\n",
    "If the request is unauthenticated, or if no additional context is present, the default value of request.auth is None."
   ]
  },
  {
   "cell_type": "markdown",
   "metadata": {},
   "source": [
    "### Status codes\n",
    "\n",
    "Using numeric HTTP status codes in your views doesn't always make for obvious reading, and it's easy to not notice if you get an error code wrong. REST framework provides more explicit identifiers for each status code, such as HTTP_400_BAD_REQUEST in the status module. It's a good idea to use these throughout rather than using numeric identifiers."
   ]
  },
  {
   "cell_type": "markdown",
   "metadata": {},
   "source": [
    "# Creating responses\n",
    "\n",
    "## Response()\n",
    ">Signature: Response(data, status=None, template_name=None, headers=None, content_type=None)\n",
    "\n",
    "Unlike regular HttpResponse objects, you do not instantiate Response objects with rendered content. Instead you pass in unrendered data, which may consist of any Python primitives.\n",
    "\n",
    "The renderers used by the Response class cannot natively handle complex datatypes such as Django model instances, so you need to serialize the data into primitive datatypes before creating the Response object.\n",
    "\n",
    "You can use REST framework's Serializer classes to perform this data serialization, or use your own custom serialization.\n",
    "\n",
    "Arguments:\n",
    "\n",
    ">data: The serialized data for the response.\n",
    "\n",
    ">status: A status code for the response. Defaults to 200. See also status codes.\n",
    "\n",
    ">template_name: A template name to use if HTMLRenderer is selected.\n",
    "\n",
    ">headers: A dictionary of HTTP headers to use in the response.\n",
    "\n",
    ">content_type: The content type of the response. Typically, this will be set automatically by the renderer as \n",
    "determined by content negotiation, but there may be some cases where you need to specify the content type explicitly."
   ]
  },
  {
   "cell_type": "markdown",
   "metadata": {},
   "source": [
    "# views\n",
    "\n",
    "## Wrapping API views\n",
    "\n",
    "REST framework provides two wrappers you can use to write API views.\n",
    "\n",
    "1. The @api_view decorator for working with function based views.\n",
    "\n",
    "2. The APIView class for working with class-based views.\n",
    "\n",
    "These wrappers provide a few bits of functionality such as making sure you receive Request instances in your view, and adding context to Response objects so that content negotiation can be performed.\n",
    "\n",
    "The wrappers also provide behaviour such as returning 405 Method Not Allowed responses when appropriate, and handling any ParseError exception that occurs when accessing request.data with malformed input.\n",
    "\n",
    "## Function Based Views\n",
    "\n",
    "\n",
    "REST framework also allows you to work with regular function based views. It provides a set of simple decorators that wrap your function based views to ensure they receive an instance of Request (rather than the usual Django HttpRequest) and allows them to return a Response (instead of a Django HttpResponse), and allow you to configure how the request is processed."
   ]
  },
  {
   "cell_type": "markdown",
   "metadata": {},
   "source": [
    "### @api_view\n",
    "\n",
    ">Signature: @api_view(http_method_names=['GET'])\n",
    "\n",
    "The core of this functionality is the api_view decorator, which takes a list of HTTP methods that your view should respond to. For example, this is how you would write a very simple view that just manually returns some data:"
   ]
  },
  {
   "cell_type": "code",
   "execution_count": null,
   "metadata": {},
   "outputs": [],
   "source": [
    "from rest_framework.decorators import api_view\n",
    "\n",
    "@api_view()\n",
    "def hello_world(request):\n",
    "    return Response({\"message\": \"Hello, world!\"})"
   ]
  },
  {
   "cell_type": "markdown",
   "metadata": {},
   "source": [
    "This view will use the default renderers, parsers, authentication classes etc specified in the settings.\n",
    "\n",
    "By default only GET methods will be accepted. Other methods will respond with \"405 Method Not Allowed\". To alter this behaviour, specify which methods the view allows, like so:"
   ]
  },
  {
   "cell_type": "code",
   "execution_count": null,
   "metadata": {},
   "outputs": [],
   "source": [
    "@api_view(['GET', 'POST'])\n",
    "def hello_world(request):\n",
    "    if request.method == 'POST':\n",
    "        return Response({\"message\": \"Got some data!\", \"data\": request.data})\n",
    "    return Response({\"message\": \"Hello, world!\"})"
   ]
  },
  {
   "cell_type": "markdown",
   "metadata": {},
   "source": [
    "## Class-based Views\n",
    "\n",
    "\n",
    "REST framework provides an APIView class, which subclasses Django's View class.\n",
    "\n",
    "APIView classes are different from regular View classes in the following ways:\n",
    "\n",
    ">Requests passed to the handler methods will be REST framework's Request instances, not Django's HttpRequest instances.\n",
    "\n",
    ">Handler methods may return REST framework's Response, instead of Django's HttpResponse. The view will manage content negotiation and setting the correct renderer on the response.\n",
    "\n",
    ">Any APIException exceptions will be caught and mediated into appropriate responses.\n",
    "\n",
    ">Incoming requests will be authenticated and appropriate permission and/or throttle checks will be run before dispatching the request to the handler method.\n",
    "\n",
    "Using the APIView class is pretty much the same as using a regular View class, as usual, the incoming request is dispatched to an appropriate handler method such as .get() or .post(). Additionally, a number of attributes may be set on the class that control various aspects of the API policy.\n",
    "\n"
   ]
  },
  {
   "cell_type": "code",
   "execution_count": null,
   "metadata": {},
   "outputs": [],
   "source": [
    "from rest_framework.views import APIView\n",
    "from rest_framework.response import Response\n",
    "from rest_framework import authentication, permissions\n",
    "from django.contrib.auth.models import User\n",
    "\n",
    "class ListUsers(APIView):\n",
    "    \"\"\"\n",
    "    View to list all users in the system.\n",
    "\n",
    "    * Requires token authentication.\n",
    "    * Only admin users are able to access this view.\n",
    "    \"\"\"\n",
    "    authentication_classes = (authentication.TokenAuthentication,)\n",
    "    permission_classes = (permissions.IsAdminUser,)\n",
    "\n",
    "    def get(self, request, format=None):\n",
    "        \"\"\"\n",
    "        Return a list of all users.\n",
    "        \"\"\"\n",
    "        usernames = [user.username for user in User.objects.all()]\n",
    "        return Response(usernames)"
   ]
  },
  {
   "cell_type": "markdown",
   "metadata": {},
   "source": [
    "## API policy attributes\n",
    "\n",
    ".renderer_classes\n",
    "\n",
    ".parser_classes\n",
    "\n",
    ".authentication_classes\n",
    "\n",
    ".throttle_classes\n",
    "\n",
    ".permission_classes\n",
    "\n",
    ".content_negotiation_class\n",
    "\n",
    "## API policy instantiation methods\n",
    "The following methods are used by REST framework to instantiate the various pluggable API policies. You won't typically need to override these methods.\n",
    "\n",
    ".get_renderers(self)\n",
    "\n",
    ".get_parsers(self)\n",
    "\n",
    ".get_authenticators(self)\n",
    "\n",
    ".get_throttles(self)\n",
    "\n",
    ".get_permissions(self)\n",
    "\n",
    ".get_content_negotiator(self)\n",
    "\n",
    ".get_exception_handler(self)\n",
    "\n",
    "## API policy implementation methods\n",
    "The following methods are called before dispatching to the handler method.\n",
    "\n",
    ".check_permissions(self, request)\n",
    "\n",
    ".check_throttles(self, request)\n",
    "\n",
    ".perform_content_negotiation(self, request, force=False)\n",
    "\n",
    "# Generic views\n",
    "\n",
    "One of the key benefits of class-based views is the way they allow you to compose bits of reusable behavior. REST framework takes advantage of this by providing a number of pre-built views that provide for commonly used patterns.\n",
    "\n",
    "The generic views provided by REST framework allow you to quickly build API views that map closely to your database models.\n",
    "\n",
    "If the generic views don't suit the needs of your API, you can drop down to using the regular APIView class, or reuse the mixins and base classes used by the generic views to compose your own set of reusable generic views.\n",
    "\n",
    "Typically when using the generic views, you'll override the view, and set several class attributes."
   ]
  },
  {
   "cell_type": "code",
   "execution_count": null,
   "metadata": {},
   "outputs": [],
   "source": [
    "from django.contrib.auth.models import User\n",
    "from myapp.serializers import UserSerializer\n",
    "from rest_framework import generics\n",
    "from rest_framework.permissions import IsAdminUser\n",
    "\n",
    "class UserList(generics.ListCreateAPIView):\n",
    "    queryset = User.objects.all()\n",
    "    serializer_class = UserSerializer\n",
    "    permission_classes = (IsAdminUser,)"
   ]
  },
  {
   "cell_type": "markdown",
   "metadata": {},
   "source": [
    "For more complex cases you might also want to override various methods on the view class. "
   ]
  },
  {
   "cell_type": "code",
   "execution_count": null,
   "metadata": {},
   "outputs": [],
   "source": [
    "class UserList(generics.ListCreateAPIView):\n",
    "    queryset = User.objects.all()\n",
    "    serializer_class = UserSerializer\n",
    "    permission_classes = (IsAdminUser,)\n",
    "\n",
    "    def list(self, request):\n",
    "        # Note the use of `get_queryset()` instead of `self.queryset`\n",
    "        queryset = self.get_queryset()\n",
    "        serializer = UserSerializer(queryset, many=True)\n",
    "        return Response(serializer.data)"
   ]
  },
  {
   "cell_type": "markdown",
   "metadata": {},
   "source": [
    "For very simple cases you might want to pass through any class attributes using the .as_view() method. For example, your URLconf might include something like the following entry:"
   ]
  },
  {
   "cell_type": "code",
   "execution_count": null,
   "metadata": {},
   "outputs": [],
   "source": [
    "url(\n",
    "    r'^/users/',\n",
    "    ListCreateAPIView.as_view(queryset=User.objects.all(), serializer_class=UserSerializer),\n",
    "    name='user-list'\n",
    ")"
   ]
  },
  {
   "cell_type": "markdown",
   "metadata": {},
   "source": [
    "# GenericAPIView\n",
    "\n",
    "## Attributes\n",
    "\n",
    "### Basic settings:\n",
    "\n",
    "The following attributes control the basic view behavior.\n",
    "\n",
    ">queryset - The queryset that should be used for returning objects from this view. Typically, you must either set this attribute, or override the get_queryset() method. If you are overriding a view method, it is important that you call get_queryset() instead of accessing this property directly, as queryset will get evaluated once, and those results will be cached for all subsequent requests.\n",
    "\n",
    ">serializer_class - The serializer class that should be used for validating and deserializing input, and for serializing output. Typically, you must either set this attribute, or override the get_serializer_class() method.\n",
    "\n",
    ">lookup_field - The model field that should be used to for performing object lookup of individual model instances. Defaults to 'pk'. Note that when using hyperlinked APIs you'll need to ensure that both the API views and the serializer classes set the lookup fields if you need to use a custom value.\n",
    "\n",
    ">lookup_url_kwarg - The URL keyword argument that should be used for object lookup. The URL conf should include a keyword argument corresponding to this value. If unset this defaults to using the same value as lookup_field.\n",
    "\n",
    "### Pagination:\n",
    "\n",
    "The following attributes are used to control pagination when used with list views.\n",
    "\n",
    "pagination_class - The pagination class that should be used when paginating list results. Defaults to the same value as the DEFAULT_PAGINATION_CLASS setting, which is 'rest_framework.pagination.PageNumberPagination'. Setting pagination_class=None will disable pagination on this view.\n",
    "\n",
    "### Filtering:\n",
    "\n",
    "filter_backends - A list of filter backend classes that should be used for filtering the queryset. Defaults to the same value as the DEFAULT_FILTER_BACKENDS setting.\n",
    "\n",
    "## Methods\n",
    "\n",
    "\n",
    "### get_queryset(self)\n",
    "Returns the queryset that should be used for list views, and that should be used as the base for lookups in detail views. Defaults to returning the queryset specified by the queryset attribute.\n",
    "\n",
    "This method should always be used rather than accessing self.queryset directly, as self.queryset gets evaluated only once, and those results are cached for all subsequent requests.\n",
    "\n",
    "May be overridden to provide dynamic behavior, such as returning a queryset, that is specific to the user making the request."
   ]
  },
  {
   "cell_type": "code",
   "execution_count": null,
   "metadata": {},
   "outputs": [],
   "source": [
    "def get_queryset(self):\n",
    "    user = self.request.user\n",
    "    return user.accounts.all()"
   ]
  },
  {
   "cell_type": "markdown",
   "metadata": {},
   "source": [
    "### get_object(self)\n",
    "Returns an object instance that should be used for detail views. Defaults to using the lookup_field parameter to filter the base queryset.\n",
    "\n",
    "May be overridden to provide more complex behavior, such as object lookups based on more than one URL kwarg."
   ]
  },
  {
   "cell_type": "code",
   "execution_count": null,
   "metadata": {},
   "outputs": [],
   "source": [
    "def get_object(self):\n",
    "    queryset = self.get_queryset()\n",
    "    filter = {}\n",
    "    for field in self.multiple_lookup_fields:\n",
    "        filter[field] = self.kwargs[field]\n",
    "\n",
    "    obj = get_object_or_404(queryset, **filter)\n",
    "    self.check_object_permissions(self.request, obj)\n",
    "    return obj"
   ]
  },
  {
   "cell_type": "markdown",
   "metadata": {},
   "source": [
    "### filter_queryset(self, queryset)\n",
    "\n",
    "Given a queryset, filter it with whichever filter backends are in use, returning a new queryset."
   ]
  },
  {
   "cell_type": "code",
   "execution_count": null,
   "metadata": {},
   "outputs": [],
   "source": [
    "def filter_queryset(self, queryset):\n",
    "    filter_backends = (CategoryFilter,)\n",
    "\n",
    "    if 'geo_route' in self.request.query_params:\n",
    "        filter_backends = (GeoRouteFilter, CategoryFilter)\n",
    "    elif 'geo_point' in self.request.query_params:\n",
    "        filter_backends = (GeoPointFilter, CategoryFilter)\n",
    "\n",
    "    for backend in list(filter_backends):\n",
    "        queryset = backend().filter_queryset(self.request, queryset, view=self)\n"
   ]
  },
  {
   "cell_type": "markdown",
   "metadata": {},
   "source": [
    "### get_serializer_class(self)\n",
    "Returns the class that should be used for the serializer. Defaults to returning the serializer_class attribute.\n",
    "\n",
    "May be overridden to provide dynamic behavior, such as using different serializers for read and write operations, or providing different serializers to different types of users."
   ]
  },
  {
   "cell_type": "code",
   "execution_count": null,
   "metadata": {},
   "outputs": [],
   "source": [
    "def get_serializer_class(self):\n",
    "    if self.request.user.is_staff:\n",
    "        return FullAccountSerializer\n",
    "    return BasicAccountSerializer"
   ]
  },
  {
   "cell_type": "markdown",
   "metadata": {},
   "source": [
    "### Save and deletion hooks:\n",
    "\n",
    "The following methods are provided by the mixin classes, and provide easy overriding of the object save or deletion behavior.\n",
    "\n",
    "1. perform_create(self, serializer) - Called by CreateModelMixin when saving a new object instance.\n",
    "2. perform_update(self, serializer) - Called by UpdateModelMixin when saving an existing object instance.\n",
    "3. perform_destroy(self, instance) - Called by DestroyModelMixin when deleting an object instance.\n",
    "\n",
    "These hooks are particularly useful for setting attributes that are implicit in the request, but are not part of the request data. For instance, you might set an attribute on the object based on the request user, or based on a URL keyword argument."
   ]
  },
  {
   "cell_type": "code",
   "execution_count": null,
   "metadata": {},
   "outputs": [],
   "source": [
    "def perform_create(self, serializer):\n",
    "    serializer.save(user=self.request.user)"
   ]
  },
  {
   "cell_type": "markdown",
   "metadata": {},
   "source": [
    "These override points are also particularly useful for adding behavior that occurs before or after saving an object, such as emailing a confirmation, or logging the update."
   ]
  },
  {
   "cell_type": "code",
   "execution_count": null,
   "metadata": {},
   "outputs": [],
   "source": [
    "def perform_update(self, serializer):\n",
    "    instance = serializer.save()\n",
    "    send_email_confirmation(user=self.request.user, modified=instance)"
   ]
  },
  {
   "cell_type": "markdown",
   "metadata": {},
   "source": [
    "You can also use these hooks to provide additional validation, by raising a ValidationError(). This can be useful if you need some validation logic to apply at the point of database save. For example:\n",
    "\n"
   ]
  },
  {
   "cell_type": "code",
   "execution_count": null,
   "metadata": {},
   "outputs": [],
   "source": [
    "def perform_create(self, serializer):\n",
    "    queryset = SignupRequest.objects.filter(user=self.request.user)\n",
    "    if queryset.exists():\n",
    "        raise ValidationError('You have already signed up')\n",
    "    serializer.save(user=self.request.user)"
   ]
  },
  {
   "cell_type": "markdown",
   "metadata": {},
   "source": [
    "# Mixins\n",
    "\n",
    "The mixin classes provide the actions that are used to provide the basic view behavior. Note that the mixin classes provide action methods rather than defining the handler methods, such as .get() and .post(), directly. This allows for more flexible composition of behavior.\n",
    "\n",
    "The mixin classes can be imported from rest_framework.mixins.\n",
    "\n",
    "### ListModelMixin\n",
    "Provides a .list(request, *args, **kwargs) method, that implements listing a queryset.\n",
    "\n",
    "If the queryset is populated, this returns a 200 OK response, with a serialized representation of the queryset as the body of the response. The response data may optionally be paginated.\n",
    "\n",
    "### CreateModelMixin\n",
    "Provides a .create(request, *args, **kwargs) method, that implements creating and saving a new model instance.\n",
    "\n",
    "If an object is created this returns a 201 Created response, with a serialized representation of the object as the body of the response. If the representation contains a key named url, then the Location header of the response will be populated with that value.\n",
    "\n",
    "If the request data provided for creating the object was invalid, a 400 Bad Request response will be returned, with the error details as the body of the response.\n",
    "\n",
    "### RetrieveModelMixin\n",
    "Provides a .retrieve(request, *args, **kwargs) method, that implements returning an existing model instance in a response.\n",
    "\n",
    "If an object can be retrieved this returns a 200 OK response, with a serialized representation of the object as the body of the response. Otherwise it will return a 404 Not Found.\n",
    "\n",
    "### UpdateModelMixin\n",
    "Provides a .update(request, *args, **kwargs) method, that implements updating and saving an existing model instance.\n",
    "\n",
    "Also provides a .partial_update(request, *args, **kwargs) method, which is similar to the update method, except that all fields for the update will be optional. This allows support for HTTP PATCH requests.\n",
    "\n",
    "If an object is updated this returns a 200 OK response, with a serialized representation of the object as the body of the response.\n",
    "\n",
    "If the request data provided for updating the object was invalid, a 400 Bad Request response will be returned, with the error details as the body of the response.\n",
    "\n",
    "### DestroyModelMixin\n",
    "Provides a .destroy(request, *args, **kwargs) method, that implements deletion of an existing model instance.\n",
    "\n",
    "If an object is deleted this returns a 204 No Content response, otherwise it will return a 404 Not Found."
   ]
  },
  {
   "cell_type": "markdown",
   "metadata": {},
   "source": [
    "# Concrete View Classes\n",
    "The following classes are the concrete generic views. If you're using generic views this is normally the level you'll be working at unless you need heavily customized behavior.\n",
    "\n",
    ">The view classes can be imported from rest_framework.generics.\n",
    "\n",
    "### CreateAPIView\n",
    "Used for create-only endpoints.\n",
    "\n",
    "Provides a post method handler.\n",
    "\n",
    ">Extends: GenericAPIView, CreateModelMixin\n",
    "\n",
    "### ListAPIView\n",
    "Used for read-only endpoints to represent a collection of model instances.\n",
    "\n",
    "Provides a get method handler.\n",
    "\n",
    ">Extends: GenericAPIView, ListModelMixin\n",
    "\n",
    "### RetrieveAPIView\n",
    "Used for read-only endpoints to represent a single model instance.\n",
    "\n",
    "Provides a get method handler.\n",
    "\n",
    ">Extends: GenericAPIView, RetrieveModelMixin\n",
    "\n",
    "### DestroyAPIView\n",
    "Used for delete-only endpoints for a single model instance.\n",
    "\n",
    "Provides a delete method handler.\n",
    "\n",
    ">Extends: GenericAPIView, DestroyModelMixin\n",
    "\n",
    "### UpdateAPIView\n",
    "Used for update-only endpoints for a single model instance.\n",
    "\n",
    "Provides put and patch method handlers.\n",
    "\n",
    ">Extends: GenericAPIView, UpdateModelMixin\n",
    "\n",
    "### ListCreateAPIView\n",
    "Used for read-write endpoints to represent a collection of model instances.\n",
    "\n",
    "Provides get and post method handlers.\n",
    "\n",
    ">Extends: GenericAPIView, ListModelMixin, CreateModelMixin\n",
    "\n",
    "### RetrieveUpdateAPIView\n",
    "Used for read or update endpoints to represent a single model instance.\n",
    "\n",
    "Provides get, put and patch method handlers.\n",
    "\n",
    ">Extends: GenericAPIView, RetrieveModelMixin, UpdateModelMixin\n",
    "\n",
    "### RetrieveDestroyAPIView\n",
    "Used for read or delete endpoints to represent a single model instance.\n",
    "\n",
    "Provides get and delete method handlers.\n",
    "\n",
    ">Extends: GenericAPIView, RetrieveModelMixin, DestroyModelMixin\n",
    "\n",
    "### RetrieveUpdateDestroyAPIView\n",
    "Used for read-write-delete endpoints to represent a single model instance.\n",
    "\n",
    "Provides get, put, patch and delete method handlers.\n",
    "\n",
    ">Extends: GenericAPIView, RetrieveModelMixin, UpdateModelMixin, DestroyModelMixin"
   ]
  },
  {
   "cell_type": "markdown",
   "metadata": {},
   "source": [
    "# Author api"
   ]
  },
  {
   "cell_type": "code",
   "execution_count": null,
   "metadata": {},
   "outputs": [],
   "source": [
    "from django.http import HttpResponse\n",
    "\n",
    "from rest_framework import generics\n",
    "from rest_framework import status\n",
    "from rest_framework.decorators import api_view\n",
    "from rest_framework.response import Response\n",
    "\n",
    "from . import serializers\n",
    "from my_app import models\n",
    "\n",
    "\n",
    "@api_view(['GET', 'POST'])\n",
    "def author_list(request):\n",
    "    \"\"\"\n",
    "    List all code Authors, or create a new author.\n",
    "    \"\"\"\n",
    "    if request.method == 'GET':\n",
    "        authors = models.Author.objects.all()\n",
    "        serializer = serializers.AuthorSerializer(authors, many=True)\n",
    "        return Response(serializer.data)\n",
    "\n",
    "    elif request.method == 'POST':\n",
    "        serializer = serializers.AuthorSerializer(data=request.data)\n",
    "        if serializer.is_valid():\n",
    "            serializer.save()\n",
    "            return Response(serializer.data, status=status.HTTP_201_CREATED)\n",
    "        return Response(serializer.errors, status=status.HTTP_400_BAD_REQUEST)\n",
    "\n",
    "\n",
    "@api_view(['GET', 'PUT', 'DELETE'])\n",
    "def author_detail(request, pk):\n",
    "    \"\"\"\n",
    "    Retrieve, update or delete a code author.\n",
    "    \"\"\"\n",
    "    try:\n",
    "        author = models.Author.objects.get(pk=pk)\n",
    "    except models.Author.DoesNotExist:\n",
    "        return Response(status=status.HTTP_404_NOT_FOUND)\n",
    "\n",
    "    if request.method == 'GET':\n",
    "        serializer = serializers.AuthorSerializer(author)\n",
    "        return Response(serializer.data)\n",
    "\n",
    "    elif request.method == 'PUT':\n",
    "        serializer = serializers.AuthorSerializer(author, data=request.data)\n",
    "        if serializer.is_valid():\n",
    "            serializer.save()\n",
    "            return Response(serializer.data)\n",
    "        return Response(serializer.errors, status=status.HTTP_400_BAD_REQUEST)\n",
    "\n",
    "    elif request.method == 'DELETE':\n",
    "        author.delete()\n",
    "        return Response(status=status.HTTP_204_NO_CONTENT)\n"
   ]
  },
  {
   "cell_type": "markdown",
   "metadata": {},
   "source": [
    "## urls"
   ]
  },
  {
   "cell_type": "code",
   "execution_count": null,
   "metadata": {},
   "outputs": [],
   "source": [
    "from django.conf.urls import url\n",
    "\n",
    "from rest_framework_swagger.views import get_swagger_view\n",
    "\n",
    "from . import views\n",
    "\n",
    "swagger = get_swagger_view(title='Public API')\n",
    "\n",
    "urlpatterns = [\n",
    "\n",
    "    url(\n",
    "        r'^author/$',\n",
    "        view=views.author_list,\n",
    "        name='author-list-api-view'\n",
    "    ),\n",
    "\n",
    "    url(\n",
    "        r'^author/(?P<pk>[0-9]+)$',\n",
    "        views.author_detail,\n",
    "        name='author_detail-api-view'\n",
    "    ),\n",
    "\n",
    "    url(r'^swagger/$', view=swagger, name='swagger'),\n",
    "]\n"
   ]
  },
  {
   "cell_type": "markdown",
   "metadata": {},
   "source": [
    "<img src='pics/Screenshot from 2018-03-07 13-51-26.png' />"
   ]
  },
  {
   "cell_type": "markdown",
   "metadata": {},
   "source": [
    "## APIView"
   ]
  },
  {
   "cell_type": "code",
   "execution_count": null,
   "metadata": {},
   "outputs": [],
   "source": [
    "from django.http import HttpResponse, Http404\n",
    "\n",
    "from rest_framework import status, generics\n",
    "from rest_framework.decorators import api_view\n",
    "from rest_framework.response import Response\n",
    "from rest_framework.views import APIView\n",
    "\n",
    "from . import serializers\n",
    "from my_app import models\n",
    "\n",
    "class AuthorList(generics.GenericAPIView):\n",
    "    \"\"\"\n",
    "    List all authors, or create a new Author.\n",
    "    \"\"\"\n",
    "\n",
    "    serializer_class = serializers.AuthorSerializer\n",
    "    \n",
    "    def get(self, request, format=None):\n",
    "        authors = models.Author.objects.all()\n",
    "        serializer = serializers.AuthorSerializer(authors, many=True)\n",
    "        return Response(serializer.data)\n",
    "\n",
    "    def post(self, request, format=None):\n",
    "        serializer = serializers.AuthorSerializer(data=request.data)\n",
    "        if serializer.is_valid():\n",
    "            serializer.save()\n",
    "            return Response(serializer.data, status=status.HTTP_201_CREATED)\n",
    "        return Response(serializer.errors, status=status.HTTP_400_BAD_REQUEST)\n",
    "\n",
    "\n",
    "class AuthorDetail(generics.GenericAPIView):\n",
    "    \"\"\"\n",
    "    Retrieve, update or delete a author instance.\n",
    "    \"\"\"\n",
    "\n",
    "    serializer_class = serializers.AuthorSerializer\n",
    "\n",
    "    def get_object(self, pk):\n",
    "        try:\n",
    "            return models.Author.objects.get(pk=pk)\n",
    "        except models.Author.DoesNotExist:\n",
    "            raise Http404\n",
    "\n",
    "    def get(self, request, pk, format=None):\n",
    "        author = self.get_object(pk)\n",
    "        serializer = serializers.AuthorSerializer(author)\n",
    "        return Response(serializer.data)\n",
    "\n",
    "    def put(self, request, pk, format=None):\n",
    "        snippet = self.get_object(pk)\n",
    "        serializer = serializers.AuthorSerializer(snippet, data=request.data)\n",
    "        if serializer.is_valid():\n",
    "            serializer.save()\n",
    "            return Response(serializer.data)\n",
    "        return Response(serializer.errors, status=status.HTTP_400_BAD_REQUEST)\n",
    "\n",
    "    def delete(self, request, pk, format=None):\n",
    "        author = self.get_object(pk)\n",
    "        author.delete()\n",
    "        return Response(status=status.HTTP_204_NO_CONTENT)\n"
   ]
  },
  {
   "cell_type": "markdown",
   "metadata": {},
   "source": [
    "## urls"
   ]
  },
  {
   "cell_type": "code",
   "execution_count": null,
   "metadata": {},
   "outputs": [],
   "source": [
    "from django.conf.urls import url\n",
    "\n",
    "from rest_framework_swagger.views import get_swagger_view\n",
    "\n",
    "from . import views\n",
    "\n",
    "swagger = get_swagger_view(title='Public API')\n",
    "\n",
    "urlpatterns = [\n",
    "\n",
    "    url(\n",
    "        r'^author/$',\n",
    "        view=views.AuthorList.as_view(),\n",
    "        name='author-list-api-view'\n",
    "    ),\n",
    "\n",
    "    url(\n",
    "        r'^author/(?P<pk>[0-9]+)$',\n",
    "        views.AuthorDetail.as_view(),\n",
    "        name='author_detail-api-view'\n",
    "    ),\n",
    "\n",
    "    url(r'^swagger/$', view=swagger, name='swagger'),\n",
    "]\n"
   ]
  },
  {
   "cell_type": "markdown",
   "metadata": {},
   "source": [
    "<img src='pics/Screenshot from 2018-03-07 14-32-44.png' />"
   ]
  },
  {
   "cell_type": "markdown",
   "metadata": {},
   "source": [
    "# views"
   ]
  },
  {
   "cell_type": "code",
   "execution_count": null,
   "metadata": {},
   "outputs": [],
   "source": [
    "class AuthorList(generics.ListAPIView):\n",
    "    serializer_class = serializers.AuthorSerializer\n",
    "\n",
    "    def get_queryset(self, ):\n",
    "        return models.Author.objects.all()\n",
    "\n",
    "\n",
    "class AuthorDetail(generics.RetrieveAPIView):\n",
    "    serializer_class = serializers.AuthorSerializer\n",
    "    queryset = models.Author.objects.all()"
   ]
  },
  {
   "cell_type": "markdown",
   "metadata": {},
   "source": [
    "# serializer"
   ]
  },
  {
   "cell_type": "code",
   "execution_count": null,
   "metadata": {},
   "outputs": [],
   "source": [
    "\n",
    "class AuthorSerializer(serializers.ModelSerializer):\n",
    "    class Meta:\n",
    "        model = models.Author\n",
    "        fields = ['id', 'first_name', 'last_name',\n",
    "                  'date_of_birth', 'date_of_death',\n",
    "        ]"
   ]
  },
  {
   "cell_type": "markdown",
   "metadata": {},
   "source": [
    "# url"
   ]
  },
  {
   "cell_type": "code",
   "execution_count": null,
   "metadata": {},
   "outputs": [],
   "source": [
    "url(\n",
    "    r'^author/$',\n",
    "    view=views.AuthorList.as_view(),\n",
    "    name='author-list-api-view'\n",
    "),\n",
    "\n",
    "url(\n",
    "    r'^author/(?P<pk>[0-9]+)/$',\n",
    "    views.AuthorDetail.as_view(),\n",
    "    name='author-detail-api-view'\n",
    "),\n"
   ]
  },
  {
   "cell_type": "markdown",
   "metadata": {},
   "source": [
    "<img src='pics/Screenshot from 2018-04-11 10-54-58.png' />"
   ]
  },
  {
   "cell_type": "markdown",
   "metadata": {},
   "source": [
    "# views"
   ]
  },
  {
   "cell_type": "code",
   "execution_count": null,
   "metadata": {},
   "outputs": [],
   "source": [
    "class AuthorList(generics.ListCreateAPIView):\n",
    "    serializer_class = serializers.AuthorSerializer\n",
    "\n",
    "    def get_queryset(self, ):\n",
    "        return models.Author.objects.all()\n",
    "\n",
    "\n",
    "class AuthorDetail(generics.RetrieveUpdateDestroyAPIView):\n",
    "    serializer_class = serializers.AuthorSerializer\n",
    "    queryset = models.Author.objects.all()\n"
   ]
  },
  {
   "cell_type": "markdown",
   "metadata": {},
   "source": [
    "<img src='pics/Screenshot from 2018-04-11 11-02-59.png' />"
   ]
  },
  {
   "cell_type": "markdown",
   "metadata": {},
   "source": [
    "# views"
   ]
  },
  {
   "cell_type": "code",
   "execution_count": null,
   "metadata": {},
   "outputs": [],
   "source": [
    "class AuthorList(\n",
    "            generics.GenericAPIView,\n",
    "            generics.mixins.ListModelMixin,\n",
    "            generics.mixins.CreateModelMixin,):\n",
    "\n",
    "    serializer_class = serializers.AuthorSerializer\n",
    "\n",
    "    def get_queryset(self, ):\n",
    "        return models.Author.objects.all()\n",
    "\n",
    "    def get(self, request, *args, **kwargs):\n",
    "        return self.list(request, *args, **kwargs)\n",
    "\n",
    "    def post(self, request, *args, **kwargs):\n",
    "        return self.create(request, *args, **kwargs)\n",
    "\n",
    "\n",
    "class AuthorDetail(\n",
    "        generics.GenericAPIView,\n",
    "        generics.mixins.DestroyModelMixin,\n",
    "        generics.mixins.RetrieveModelMixin,\n",
    "        generics.mixins.UpdateModelMixin):\n",
    "\n",
    "    serializer_class = serializers.AuthorSerializer\n",
    "    queryset = models.Author.objects.all()\n",
    "\n",
    "    def get(self, request, *args, **kwargs):\n",
    "        return self.retrieve(request, *args, **kwargs)\n",
    "\n",
    "    def put(self, request, *args, **kwargs):\n",
    "        return self.update(request, *args, **kwargs)\n",
    "\n",
    "    def delete(self, request, *args, **kwargs):\n",
    "        return self.destroy(request, *args, **kwargs)"
   ]
  },
  {
   "cell_type": "markdown",
   "metadata": {},
   "source": [
    "<img src='pics/Screenshot from 2018-04-11 11-24-29.png' />\n",
    "<img src='pics/1922762_1.jpg' />"
   ]
  }
 ],
 "metadata": {
  "kernelspec": {
   "display_name": "Python 2",
   "language": "python",
   "name": "python2"
  },
  "language_info": {
   "codemirror_mode": {
    "name": "ipython",
    "version": 2
   },
   "file_extension": ".py",
   "mimetype": "text/x-python",
   "name": "python",
   "nbconvert_exporter": "python",
   "pygments_lexer": "ipython2",
   "version": "2.7.12"
  }
 },
 "nbformat": 4,
 "nbformat_minor": 2
}
