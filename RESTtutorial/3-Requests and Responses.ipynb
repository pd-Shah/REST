{
 "cells": [
  {
   "cell_type": "markdown",
   "metadata": {},
   "source": [
    "# REST API\n",
    "<img src='pics/0.png' />"
   ]
  },
  {
   "cell_type": "markdown",
   "metadata": {},
   "source": [
    "## Request objects\n",
    "\n",
    "<img src='pics/Screenshot from 2018-03-07 15-38-28.png' />\n",
    "\n",
    "REST framework introduces a Request object that extends the regular HttpRequest, and provides more flexible request parsing. The core functionality of the Request object is the request.data attribute, which is similar to request.POST, but more useful for working with Web APIs."
   ]
  },
  {
   "cell_type": "code",
   "execution_count": null,
   "metadata": {},
   "outputs": [],
   "source": [
    "request.POST  # Only handles form data.  Only works for 'POST' method.\n",
    "request.data  # Handles arbitrary data.  Works for 'POST', 'PUT' and 'PATCH' methods."
   ]
  },
  {
   "cell_type": "markdown",
   "metadata": {},
   "source": [
    "## Response objects\n",
    "\n",
    "REST framework also introduces a Response object, which is a type of TemplateResponse that takes unrendered content and uses content negotiation to determine the correct content type to return to the client."
   ]
  },
  {
   "cell_type": "code",
   "execution_count": null,
   "metadata": {},
   "outputs": [],
   "source": [
    "return Response(data)  # Renders to content type as requested by the client."
   ]
  },
  {
   "cell_type": "markdown",
   "metadata": {},
   "source": [
    "## Status codes\n",
    "\n",
    "Using numeric HTTP status codes in your views doesn't always make for obvious reading, and it's easy to not notice if you get an error code wrong. REST framework provides more explicit identifiers for each status code, such as HTTP_400_BAD_REQUEST in the status module. It's a good idea to use these throughout rather than using numeric identifiers."
   ]
  },
  {
   "cell_type": "markdown",
   "metadata": {},
   "source": [
    "## Wrapping API views\n",
    "\n",
    "REST framework provides two wrappers you can use to write API views.\n",
    "\n",
    "1. The @api_view decorator for working with function based views.\n",
    "\n",
    "2. The APIView class for working with class-based views.\n",
    "\n",
    "These wrappers provide a few bits of functionality such as making sure you receive Request instances in your view, and adding context to Response objects so that content negotiation can be performed.\n",
    "\n",
    "The wrappers also provide behaviour such as returning 405 Method Not Allowed responses when appropriate, and handling any ParseError exception that occurs when accessing request.data with malformed input."
   ]
  },
  {
   "cell_type": "markdown",
   "metadata": {},
   "source": [
    "## @api_view"
   ]
  },
  {
   "cell_type": "code",
   "execution_count": null,
   "metadata": {},
   "outputs": [],
   "source": [
    "from django.http import HttpResponse\n",
    "\n",
    "from rest_framework import generics\n",
    "from rest_framework import status\n",
    "from rest_framework.decorators import api_view\n",
    "from rest_framework.response import Response\n",
    "\n",
    "from . import serializers\n",
    "from my_app import models\n",
    "\n",
    "\n",
    "@api_view(['GET', 'POST'])\n",
    "def author_list(request):\n",
    "    \"\"\"\n",
    "    List all code Authors, or create a new author.\n",
    "    \"\"\"\n",
    "    if request.method == 'GET':\n",
    "        authors = models.Author.objects.all()\n",
    "        serializer = serializers.AuthorSerializer(authors, many=True)\n",
    "        return Response(serializer.data)\n",
    "\n",
    "    elif request.method == 'POST':\n",
    "        serializer = serializers.AuthorSerializer(data=request.data)\n",
    "        if serializer.is_valid():\n",
    "            serializer.save()\n",
    "            return Response(serializer.data, status=status.HTTP_201_CREATED)\n",
    "        return Response(serializer.errors, status=status.HTTP_400_BAD_REQUEST)\n",
    "\n",
    "\n",
    "@api_view(['GET', 'PUT', 'DELETE'])\n",
    "def author_detail(request, pk):\n",
    "    \"\"\"\n",
    "    Retrieve, update or delete a code author.\n",
    "    \"\"\"\n",
    "    try:\n",
    "        author = models.Author.objects.get(pk=pk)\n",
    "    except models.Author.DoesNotExist:\n",
    "        return Response(status=status.HTTP_404_NOT_FOUND)\n",
    "\n",
    "    if request.method == 'GET':\n",
    "        serializer = serializers.AuthorSerializer(author)\n",
    "        return Response(serializer.data)\n",
    "\n",
    "    elif request.method == 'PUT':\n",
    "        serializer = serializers.AuthorSerializer(author, data=request.data)\n",
    "        if serializer.is_valid():\n",
    "            serializer.save()\n",
    "            return Response(serializer.data)\n",
    "        return Response(serializer.errors, status=status.HTTP_400_BAD_REQUEST)\n",
    "\n",
    "    elif request.method == 'DELETE':\n",
    "        author.delete()\n",
    "        return Response(status=status.HTTP_204_NO_CONTENT)\n"
   ]
  },
  {
   "cell_type": "markdown",
   "metadata": {},
   "source": [
    "## urls"
   ]
  },
  {
   "cell_type": "code",
   "execution_count": null,
   "metadata": {},
   "outputs": [],
   "source": [
    "from django.conf.urls import url\n",
    "\n",
    "from rest_framework_swagger.views import get_swagger_view\n",
    "\n",
    "from . import views\n",
    "\n",
    "swagger = get_swagger_view(title='Public API')\n",
    "\n",
    "urlpatterns = [\n",
    "\n",
    "    url(\n",
    "        r'^author/$',\n",
    "        view=views.author_list,\n",
    "        name='author-list-api-view'\n",
    "    ),\n",
    "\n",
    "    url(\n",
    "        r'^author/(?P<pk>[0-9]+)$',\n",
    "        views.author_detail,\n",
    "        name='author_detail-api-view'\n",
    "    ),\n",
    "\n",
    "    url(r'^swagger/$', view=swagger, name='swagger'),\n",
    "]\n"
   ]
  },
  {
   "cell_type": "markdown",
   "metadata": {},
   "source": [
    "<img src='pics/Screenshot from 2018-03-07 13-51-26.png' />"
   ]
  },
  {
   "cell_type": "markdown",
   "metadata": {},
   "source": [
    "## APIView"
   ]
  },
  {
   "cell_type": "code",
   "execution_count": null,
   "metadata": {},
   "outputs": [],
   "source": [
    "from django.http import HttpResponse, Http404\n",
    "\n",
    "from rest_framework import status, generics\n",
    "from rest_framework.decorators import api_view\n",
    "from rest_framework.response import Response\n",
    "from rest_framework.views import APIView\n",
    "\n",
    "from . import serializers\n",
    "from my_app import models\n",
    "\n",
    "class AuthorList(generics.GenericAPIView):\n",
    "    \"\"\"\n",
    "    List all authors, or create a new Author.\n",
    "    \"\"\"\n",
    "\n",
    "    serializer_class = serializers.AuthorSerializer\n",
    "    \n",
    "    def get(self, request, format=None):\n",
    "        authors = models.Author.objects.all()\n",
    "        serializer = serializers.AuthorSerializer(authors, many=True)\n",
    "        return Response(serializer.data)\n",
    "\n",
    "    def post(self, request, format=None):\n",
    "        serializer = serializers.AuthorSerializer(data=request.data)\n",
    "        if serializer.is_valid():\n",
    "            serializer.save()\n",
    "            return Response(serializer.data, status=status.HTTP_201_CREATED)\n",
    "        return Response(serializer.errors, status=status.HTTP_400_BAD_REQUEST)\n",
    "\n",
    "\n",
    "class AuthorDetail(generics.GenericAPIView):\n",
    "    \"\"\"\n",
    "    Retrieve, update or delete a author instance.\n",
    "    \"\"\"\n",
    "\n",
    "    serializer_class = serializers.AuthorSerializer\n",
    "\n",
    "    def get_object(self, pk):\n",
    "        try:\n",
    "            return models.Author.objects.get(pk=pk)\n",
    "        except models.Author.DoesNotExist:\n",
    "            raise Http404\n",
    "\n",
    "    def get(self, request, pk, format=None):\n",
    "        author = self.get_object(pk)\n",
    "        serializer = serializers.AuthorSerializer(author)\n",
    "        return Response(serializer.data)\n",
    "\n",
    "    def put(self, request, pk, format=None):\n",
    "        snippet = self.get_object(pk)\n",
    "        serializer = serializers.AuthorSerializer(snippet, data=request.data)\n",
    "        if serializer.is_valid():\n",
    "            serializer.save()\n",
    "            return Response(serializer.data)\n",
    "        return Response(serializer.errors, status=status.HTTP_400_BAD_REQUEST)\n",
    "\n",
    "    def delete(self, request, pk, format=None):\n",
    "        author = self.get_object(pk)\n",
    "        author.delete()\n",
    "        return Response(status=status.HTTP_204_NO_CONTENT)\n"
   ]
  },
  {
   "cell_type": "markdown",
   "metadata": {},
   "source": [
    "## urls"
   ]
  },
  {
   "cell_type": "code",
   "execution_count": null,
   "metadata": {},
   "outputs": [],
   "source": [
    "from django.conf.urls import url\n",
    "\n",
    "from rest_framework_swagger.views import get_swagger_view\n",
    "\n",
    "from . import views\n",
    "\n",
    "swagger = get_swagger_view(title='Public API')\n",
    "\n",
    "urlpatterns = [\n",
    "\n",
    "    url(\n",
    "        r'^author/$',\n",
    "        view=views.AuthorList.as_view(),\n",
    "        name='author-list-api-view'\n",
    "    ),\n",
    "\n",
    "    url(\n",
    "        r'^author/(?P<pk>[0-9]+)$',\n",
    "        views.AuthorDetail.as_view(),\n",
    "        name='author_detail-api-view'\n",
    "    ),\n",
    "\n",
    "    url(r'^swagger/$', view=swagger, name='swagger'),\n",
    "]\n"
   ]
  },
  {
   "cell_type": "markdown",
   "metadata": {},
   "source": [
    "<img src='pics/Screenshot from 2018-03-07 14-32-44.png' />"
   ]
  }
 ],
 "metadata": {
  "kernelspec": {
   "display_name": "Python 2",
   "language": "python",
   "name": "python2"
  },
  "language_info": {
   "codemirror_mode": {
    "name": "ipython",
    "version": 2
   },
   "file_extension": ".py",
   "mimetype": "text/x-python",
   "name": "python",
   "nbconvert_exporter": "python",
   "pygments_lexer": "ipython2",
   "version": "2.7.12"
  }
 },
 "nbformat": 4,
 "nbformat_minor": 2
}
